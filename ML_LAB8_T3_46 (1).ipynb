{
 "cells": [
  {
   "cell_type": "markdown",
   "metadata": {
    "id": "i_paGd_yLbgH"
   },
   "source": [
    "# K-Means Clustering"
   ]
  },
  {
   "cell_type": "markdown",
   "metadata": {
    "id": "nAuqPwTnLipr"
   },
   "source": [
    "## Importing the libraries"
   ]
  },
  {
   "cell_type": "code",
   "execution_count": 28,
   "metadata": {
    "id": "nAzDjMAHM6tK"
   },
   "outputs": [],
   "source": [
    "import numpy as np\n",
    "import matplotlib.pyplot as plt\n",
    "import pandas as pd"
   ]
  },
  {
   "cell_type": "markdown",
   "metadata": {
    "id": "5LciKOr8Lo5O"
   },
   "source": [
    "## Importing the dataset"
   ]
  },
  {
   "cell_type": "code",
   "execution_count": 29,
   "metadata": {
    "id": "MmrLM8u_NF29"
   },
   "outputs": [],
   "source": [
    "dataset = pd.read_csv(r\"C:\\Users\\Admin\\Downloads\\ecommerce.csv\")"
   ]
  },
  {
   "cell_type": "code",
   "execution_count": 30,
   "metadata": {
    "colab": {
     "base_uri": "https://localhost:8080/"
    },
    "id": "WVxRimQ2ynyE",
    "outputId": "a70d9caf-f76b-41ab-f10a-6f150dcbb97a"
   },
   "outputs": [
    {
     "name": "stdout",
     "output_type": "stream",
     "text": [
      "<class 'pandas.core.frame.DataFrame'>\n",
      "RangeIndex: 100 entries, 0 to 99\n",
      "Data columns (total 6 columns):\n",
      " #   Column         Non-Null Count  Dtype  \n",
      "---  ------         --------------  -----  \n",
      " 0   customer_age   100 non-null    int64  \n",
      " 1   gender         100 non-null    int64  \n",
      " 2   pages_viewed   100 non-null    int64  \n",
      " 3   time_on_site   100 non-null    float64\n",
      " 4   device_type    100 non-null    int64  \n",
      " 5   made_purchase  100 non-null    int64  \n",
      "dtypes: float64(1), int64(5)\n",
      "memory usage: 4.8 KB\n"
     ]
    }
   ],
   "source": [
    "dataset.info()"
   ]
  },
  {
   "cell_type": "code",
   "execution_count": 31,
   "metadata": {
    "colab": {
     "base_uri": "https://localhost:8080/"
    },
    "id": "VQx3HYqOytXL",
    "outputId": "66f5addc-4cfc-4354-c16e-266182346f3c"
   },
   "outputs": [
    {
     "data": {
      "text/plain": [
       "(100, 6)"
      ]
     },
     "execution_count": 31,
     "metadata": {},
     "output_type": "execute_result"
    }
   ],
   "source": [
    "dataset.shape"
   ]
  },
  {
   "cell_type": "code",
   "execution_count": 32,
   "metadata": {
    "id": "NaklPjHmzfBB"
   },
   "outputs": [],
   "source": [
    "X = dataset.iloc[:,[3,4]].values"
   ]
  },
  {
   "cell_type": "code",
   "execution_count": 33,
   "metadata": {
    "colab": {
     "base_uri": "https://localhost:8080/"
    },
    "id": "zRghupiIPe3Y",
    "outputId": "610f4821-f532-4970-9eb6-008bb4cd320d"
   },
   "outputs": [
    {
     "name": "stdout",
     "output_type": "stream",
     "text": [
      "[[ 7.8   0.  ]\n",
      " [13.79  1.  ]\n",
      " [ 4.31  0.  ]\n",
      " [28.64  0.  ]\n",
      " [18.38  0.  ]\n",
      " [ 7.24  1.  ]\n",
      " [20.32  1.  ]\n",
      " [18.73  0.  ]\n",
      " [11.07  0.  ]\n",
      " [ 3.85  0.  ]\n",
      " [20.31  0.  ]\n",
      " [15.85  1.  ]\n",
      " [23.28  1.  ]\n",
      " [15.84  1.  ]\n",
      " [25.64  1.  ]\n",
      " [16.78  0.  ]\n",
      " [17.05  0.  ]\n",
      " [26.36  0.  ]\n",
      " [12.4   1.  ]\n",
      " [ 4.45  0.  ]\n",
      " [ 1.35  1.  ]\n",
      " [22.78  1.  ]\n",
      " [18.8   0.  ]\n",
      " [21.27  0.  ]\n",
      " [ 6.78  0.  ]\n",
      " [ 4.52  1.  ]\n",
      " [ 0.93  0.  ]\n",
      " [10.84  1.  ]\n",
      " [17.9   0.  ]\n",
      " [12.07  1.  ]\n",
      " [13.41  1.  ]\n",
      " [27.17  0.  ]\n",
      " [10.77  1.  ]\n",
      " [15.66  1.  ]\n",
      " [23.62  0.  ]\n",
      " [12.2   1.  ]\n",
      " [18.85  0.  ]\n",
      " [25.94  1.  ]\n",
      " [28.51  0.  ]\n",
      " [ 4.84  0.  ]\n",
      " [27.83  1.  ]\n",
      " [15.02  1.  ]\n",
      " [ 8.12  1.  ]\n",
      " [14.04  1.  ]\n",
      " [29.41  1.  ]\n",
      " [15.03  0.  ]\n",
      " [10.2   1.  ]\n",
      " [19.19  0.  ]\n",
      " [ 7.58  0.  ]\n",
      " [ 2.74  1.  ]\n",
      " [ 4.3   0.  ]\n",
      " [ 4.28  0.  ]\n",
      " [ 4.98  0.  ]\n",
      " [ 4.6   0.  ]\n",
      " [19.41  1.  ]\n",
      " [ 5.87  0.  ]\n",
      " [10.7   1.  ]\n",
      " [26.96  1.  ]\n",
      " [14.48  0.  ]\n",
      " [20.19  1.  ]\n",
      " [ 5.58  1.  ]\n",
      " [ 6.17  1.  ]\n",
      " [ 1.71  0.  ]\n",
      " [ 5.48  1.  ]\n",
      " [ 8.72  1.  ]\n",
      " [ 5.72  1.  ]\n",
      " [ 3.12  0.  ]\n",
      " [ 4.06  1.  ]\n",
      " [14.09  0.  ]\n",
      " [ 6.59  0.  ]\n",
      " [11.25  0.  ]\n",
      " [15.35  0.  ]\n",
      " [20.87  0.  ]\n",
      " [ 1.66  0.  ]\n",
      " [24.08  1.  ]\n",
      " [19.02  0.  ]\n",
      " [ 2.91  1.  ]\n",
      " [26.27  1.  ]\n",
      " [27.67  0.  ]\n",
      " [ 2.3   1.  ]\n",
      " [ 8.67  1.  ]\n",
      " [24.28  1.  ]\n",
      " [22.57  1.  ]\n",
      " [ 5.94  0.  ]\n",
      " [ 6.68  1.  ]\n",
      " [11.43  0.  ]\n",
      " [14.79  1.  ]\n",
      " [18.74  1.  ]\n",
      " [11.38  0.  ]\n",
      " [14.14  1.  ]\n",
      " [22.55  1.  ]\n",
      " [ 1.58  1.  ]\n",
      " [ 7.95  0.  ]\n",
      " [21.54  1.  ]\n",
      " [26.91  0.  ]\n",
      " [15.59  1.  ]\n",
      " [16.2   0.  ]\n",
      " [ 3.66  0.  ]\n",
      " [13.7   1.  ]\n",
      " [16.21  1.  ]]\n"
     ]
    }
   ],
   "source": [
    "print(X)"
   ]
  },
  {
   "cell_type": "markdown",
   "metadata": {
    "id": "nWC2EWp2Lx5G"
   },
   "source": [
    "### Using the elbow method to find the optimal number of clusters"
   ]
  },
  {
   "cell_type": "code",
   "execution_count": 34,
   "metadata": {
    "colab": {
     "base_uri": "https://localhost:8080/",
     "height": 295
    },
    "id": "4mq02U0PNFNx",
    "outputId": "2668d2b9-594e-4685-8462-a2b15b8084e0"
   },
   "outputs": [
    {
     "ename": "NameError",
     "evalue": "name 'X_scaled' is not defined",
     "output_type": "error",
     "traceback": [
      "\u001b[1;31m---------------------------------------------------------------------------\u001b[0m",
      "\u001b[1;31mNameError\u001b[0m                                 Traceback (most recent call last)",
      "Cell \u001b[1;32mIn[34], line 7\u001b[0m\n\u001b[0;32m      5\u001b[0m \u001b[38;5;28;01mfor\u001b[39;00m i \u001b[38;5;129;01min\u001b[39;00m \u001b[38;5;28mrange\u001b[39m(\u001b[38;5;241m1\u001b[39m, \u001b[38;5;241m11\u001b[39m):\n\u001b[0;32m      6\u001b[0m     kmeans \u001b[38;5;241m=\u001b[39m KMeans(n_clusters\u001b[38;5;241m=\u001b[39mi, init\u001b[38;5;241m=\u001b[39m\u001b[38;5;124m'\u001b[39m\u001b[38;5;124mk-means++\u001b[39m\u001b[38;5;124m'\u001b[39m, random_state\u001b[38;5;241m=\u001b[39m\u001b[38;5;241m42\u001b[39m)\n\u001b[1;32m----> 7\u001b[0m     kmeans\u001b[38;5;241m.\u001b[39mfit(\u001b[43mX_scaled\u001b[49m)\n\u001b[0;32m      8\u001b[0m     wcss\u001b[38;5;241m.\u001b[39mappend(kmeans\u001b[38;5;241m.\u001b[39minertia_)\n\u001b[0;32m     10\u001b[0m plt\u001b[38;5;241m.\u001b[39mplot(\u001b[38;5;28mrange\u001b[39m(\u001b[38;5;241m1\u001b[39m, \u001b[38;5;241m11\u001b[39m), wcss, marker\u001b[38;5;241m=\u001b[39m\u001b[38;5;124m'\u001b[39m\u001b[38;5;124mo\u001b[39m\u001b[38;5;124m'\u001b[39m)\n",
      "\u001b[1;31mNameError\u001b[0m: name 'X_scaled' is not defined"
     ]
    }
   ],
   "source": [
    "from sklearn.cluster import KMeans\n",
    "import matplotlib.pyplot as plt\n",
    "\n",
    "wcss = []\n",
    "for i in range(1, 11):\n",
    "    kmeans = KMeans(n_clusters=i, init='k-means++', random_state=42)\n",
    "    kmeans.fit(X_scaled)\n",
    "    wcss.append(kmeans.inertia_)\n",
    "\n",
    "plt.plot(range(1, 11), wcss, marker='o')\n",
    "plt.title(\"Elbow Method\")\n",
    "plt.xlabel(\"Number of clusters\")\n",
    "plt.ylabel(\"WCSS\")\n",
    "plt.show()\n"
   ]
  },
  {
   "cell_type": "markdown",
   "metadata": {
    "id": "VgT0mANLL4Nz"
   },
   "source": [
    "## Training the K-Means model on the dataset"
   ]
  },
  {
   "cell_type": "code",
   "execution_count": 8,
   "metadata": {
    "colab": {
     "base_uri": "https://localhost:8080/"
    },
    "id": "g6ow3v3IQVcm",
    "outputId": "68fee019-6328-4a4f-a93c-84b4435e5afb"
   },
   "outputs": [
    {
     "data": {
      "text/html": [
       "<style>#sk-container-id-1 {\n",
       "  /* Definition of color scheme common for light and dark mode */\n",
       "  --sklearn-color-text: #000;\n",
       "  --sklearn-color-text-muted: #666;\n",
       "  --sklearn-color-line: gray;\n",
       "  /* Definition of color scheme for unfitted estimators */\n",
       "  --sklearn-color-unfitted-level-0: #fff5e6;\n",
       "  --sklearn-color-unfitted-level-1: #f6e4d2;\n",
       "  --sklearn-color-unfitted-level-2: #ffe0b3;\n",
       "  --sklearn-color-unfitted-level-3: chocolate;\n",
       "  /* Definition of color scheme for fitted estimators */\n",
       "  --sklearn-color-fitted-level-0: #f0f8ff;\n",
       "  --sklearn-color-fitted-level-1: #d4ebff;\n",
       "  --sklearn-color-fitted-level-2: #b3dbfd;\n",
       "  --sklearn-color-fitted-level-3: cornflowerblue;\n",
       "\n",
       "  /* Specific color for light theme */\n",
       "  --sklearn-color-text-on-default-background: var(--sg-text-color, var(--theme-code-foreground, var(--jp-content-font-color1, black)));\n",
       "  --sklearn-color-background: var(--sg-background-color, var(--theme-background, var(--jp-layout-color0, white)));\n",
       "  --sklearn-color-border-box: var(--sg-text-color, var(--theme-code-foreground, var(--jp-content-font-color1, black)));\n",
       "  --sklearn-color-icon: #696969;\n",
       "\n",
       "  @media (prefers-color-scheme: dark) {\n",
       "    /* Redefinition of color scheme for dark theme */\n",
       "    --sklearn-color-text-on-default-background: var(--sg-text-color, var(--theme-code-foreground, var(--jp-content-font-color1, white)));\n",
       "    --sklearn-color-background: var(--sg-background-color, var(--theme-background, var(--jp-layout-color0, #111)));\n",
       "    --sklearn-color-border-box: var(--sg-text-color, var(--theme-code-foreground, var(--jp-content-font-color1, white)));\n",
       "    --sklearn-color-icon: #878787;\n",
       "  }\n",
       "}\n",
       "\n",
       "#sk-container-id-1 {\n",
       "  color: var(--sklearn-color-text);\n",
       "}\n",
       "\n",
       "#sk-container-id-1 pre {\n",
       "  padding: 0;\n",
       "}\n",
       "\n",
       "#sk-container-id-1 input.sk-hidden--visually {\n",
       "  border: 0;\n",
       "  clip: rect(1px 1px 1px 1px);\n",
       "  clip: rect(1px, 1px, 1px, 1px);\n",
       "  height: 1px;\n",
       "  margin: -1px;\n",
       "  overflow: hidden;\n",
       "  padding: 0;\n",
       "  position: absolute;\n",
       "  width: 1px;\n",
       "}\n",
       "\n",
       "#sk-container-id-1 div.sk-dashed-wrapped {\n",
       "  border: 1px dashed var(--sklearn-color-line);\n",
       "  margin: 0 0.4em 0.5em 0.4em;\n",
       "  box-sizing: border-box;\n",
       "  padding-bottom: 0.4em;\n",
       "  background-color: var(--sklearn-color-background);\n",
       "}\n",
       "\n",
       "#sk-container-id-1 div.sk-container {\n",
       "  /* jupyter's `normalize.less` sets `[hidden] { display: none; }`\n",
       "     but bootstrap.min.css set `[hidden] { display: none !important; }`\n",
       "     so we also need the `!important` here to be able to override the\n",
       "     default hidden behavior on the sphinx rendered scikit-learn.org.\n",
       "     See: https://github.com/scikit-learn/scikit-learn/issues/21755 */\n",
       "  display: inline-block !important;\n",
       "  position: relative;\n",
       "}\n",
       "\n",
       "#sk-container-id-1 div.sk-text-repr-fallback {\n",
       "  display: none;\n",
       "}\n",
       "\n",
       "div.sk-parallel-item,\n",
       "div.sk-serial,\n",
       "div.sk-item {\n",
       "  /* draw centered vertical line to link estimators */\n",
       "  background-image: linear-gradient(var(--sklearn-color-text-on-default-background), var(--sklearn-color-text-on-default-background));\n",
       "  background-size: 2px 100%;\n",
       "  background-repeat: no-repeat;\n",
       "  background-position: center center;\n",
       "}\n",
       "\n",
       "/* Parallel-specific style estimator block */\n",
       "\n",
       "#sk-container-id-1 div.sk-parallel-item::after {\n",
       "  content: \"\";\n",
       "  width: 100%;\n",
       "  border-bottom: 2px solid var(--sklearn-color-text-on-default-background);\n",
       "  flex-grow: 1;\n",
       "}\n",
       "\n",
       "#sk-container-id-1 div.sk-parallel {\n",
       "  display: flex;\n",
       "  align-items: stretch;\n",
       "  justify-content: center;\n",
       "  background-color: var(--sklearn-color-background);\n",
       "  position: relative;\n",
       "}\n",
       "\n",
       "#sk-container-id-1 div.sk-parallel-item {\n",
       "  display: flex;\n",
       "  flex-direction: column;\n",
       "}\n",
       "\n",
       "#sk-container-id-1 div.sk-parallel-item:first-child::after {\n",
       "  align-self: flex-end;\n",
       "  width: 50%;\n",
       "}\n",
       "\n",
       "#sk-container-id-1 div.sk-parallel-item:last-child::after {\n",
       "  align-self: flex-start;\n",
       "  width: 50%;\n",
       "}\n",
       "\n",
       "#sk-container-id-1 div.sk-parallel-item:only-child::after {\n",
       "  width: 0;\n",
       "}\n",
       "\n",
       "/* Serial-specific style estimator block */\n",
       "\n",
       "#sk-container-id-1 div.sk-serial {\n",
       "  display: flex;\n",
       "  flex-direction: column;\n",
       "  align-items: center;\n",
       "  background-color: var(--sklearn-color-background);\n",
       "  padding-right: 1em;\n",
       "  padding-left: 1em;\n",
       "}\n",
       "\n",
       "\n",
       "/* Toggleable style: style used for estimator/Pipeline/ColumnTransformer box that is\n",
       "clickable and can be expanded/collapsed.\n",
       "- Pipeline and ColumnTransformer use this feature and define the default style\n",
       "- Estimators will overwrite some part of the style using the `sk-estimator` class\n",
       "*/\n",
       "\n",
       "/* Pipeline and ColumnTransformer style (default) */\n",
       "\n",
       "#sk-container-id-1 div.sk-toggleable {\n",
       "  /* Default theme specific background. It is overwritten whether we have a\n",
       "  specific estimator or a Pipeline/ColumnTransformer */\n",
       "  background-color: var(--sklearn-color-background);\n",
       "}\n",
       "\n",
       "/* Toggleable label */\n",
       "#sk-container-id-1 label.sk-toggleable__label {\n",
       "  cursor: pointer;\n",
       "  display: flex;\n",
       "  width: 100%;\n",
       "  margin-bottom: 0;\n",
       "  padding: 0.5em;\n",
       "  box-sizing: border-box;\n",
       "  text-align: center;\n",
       "  align-items: start;\n",
       "  justify-content: space-between;\n",
       "  gap: 0.5em;\n",
       "}\n",
       "\n",
       "#sk-container-id-1 label.sk-toggleable__label .caption {\n",
       "  font-size: 0.6rem;\n",
       "  font-weight: lighter;\n",
       "  color: var(--sklearn-color-text-muted);\n",
       "}\n",
       "\n",
       "#sk-container-id-1 label.sk-toggleable__label-arrow:before {\n",
       "  /* Arrow on the left of the label */\n",
       "  content: \"▸\";\n",
       "  float: left;\n",
       "  margin-right: 0.25em;\n",
       "  color: var(--sklearn-color-icon);\n",
       "}\n",
       "\n",
       "#sk-container-id-1 label.sk-toggleable__label-arrow:hover:before {\n",
       "  color: var(--sklearn-color-text);\n",
       "}\n",
       "\n",
       "/* Toggleable content - dropdown */\n",
       "\n",
       "#sk-container-id-1 div.sk-toggleable__content {\n",
       "  max-height: 0;\n",
       "  max-width: 0;\n",
       "  overflow: hidden;\n",
       "  text-align: left;\n",
       "  /* unfitted */\n",
       "  background-color: var(--sklearn-color-unfitted-level-0);\n",
       "}\n",
       "\n",
       "#sk-container-id-1 div.sk-toggleable__content.fitted {\n",
       "  /* fitted */\n",
       "  background-color: var(--sklearn-color-fitted-level-0);\n",
       "}\n",
       "\n",
       "#sk-container-id-1 div.sk-toggleable__content pre {\n",
       "  margin: 0.2em;\n",
       "  border-radius: 0.25em;\n",
       "  color: var(--sklearn-color-text);\n",
       "  /* unfitted */\n",
       "  background-color: var(--sklearn-color-unfitted-level-0);\n",
       "}\n",
       "\n",
       "#sk-container-id-1 div.sk-toggleable__content.fitted pre {\n",
       "  /* unfitted */\n",
       "  background-color: var(--sklearn-color-fitted-level-0);\n",
       "}\n",
       "\n",
       "#sk-container-id-1 input.sk-toggleable__control:checked~div.sk-toggleable__content {\n",
       "  /* Expand drop-down */\n",
       "  max-height: 200px;\n",
       "  max-width: 100%;\n",
       "  overflow: auto;\n",
       "}\n",
       "\n",
       "#sk-container-id-1 input.sk-toggleable__control:checked~label.sk-toggleable__label-arrow:before {\n",
       "  content: \"▾\";\n",
       "}\n",
       "\n",
       "/* Pipeline/ColumnTransformer-specific style */\n",
       "\n",
       "#sk-container-id-1 div.sk-label input.sk-toggleable__control:checked~label.sk-toggleable__label {\n",
       "  color: var(--sklearn-color-text);\n",
       "  background-color: var(--sklearn-color-unfitted-level-2);\n",
       "}\n",
       "\n",
       "#sk-container-id-1 div.sk-label.fitted input.sk-toggleable__control:checked~label.sk-toggleable__label {\n",
       "  background-color: var(--sklearn-color-fitted-level-2);\n",
       "}\n",
       "\n",
       "/* Estimator-specific style */\n",
       "\n",
       "/* Colorize estimator box */\n",
       "#sk-container-id-1 div.sk-estimator input.sk-toggleable__control:checked~label.sk-toggleable__label {\n",
       "  /* unfitted */\n",
       "  background-color: var(--sklearn-color-unfitted-level-2);\n",
       "}\n",
       "\n",
       "#sk-container-id-1 div.sk-estimator.fitted input.sk-toggleable__control:checked~label.sk-toggleable__label {\n",
       "  /* fitted */\n",
       "  background-color: var(--sklearn-color-fitted-level-2);\n",
       "}\n",
       "\n",
       "#sk-container-id-1 div.sk-label label.sk-toggleable__label,\n",
       "#sk-container-id-1 div.sk-label label {\n",
       "  /* The background is the default theme color */\n",
       "  color: var(--sklearn-color-text-on-default-background);\n",
       "}\n",
       "\n",
       "/* On hover, darken the color of the background */\n",
       "#sk-container-id-1 div.sk-label:hover label.sk-toggleable__label {\n",
       "  color: var(--sklearn-color-text);\n",
       "  background-color: var(--sklearn-color-unfitted-level-2);\n",
       "}\n",
       "\n",
       "/* Label box, darken color on hover, fitted */\n",
       "#sk-container-id-1 div.sk-label.fitted:hover label.sk-toggleable__label.fitted {\n",
       "  color: var(--sklearn-color-text);\n",
       "  background-color: var(--sklearn-color-fitted-level-2);\n",
       "}\n",
       "\n",
       "/* Estimator label */\n",
       "\n",
       "#sk-container-id-1 div.sk-label label {\n",
       "  font-family: monospace;\n",
       "  font-weight: bold;\n",
       "  display: inline-block;\n",
       "  line-height: 1.2em;\n",
       "}\n",
       "\n",
       "#sk-container-id-1 div.sk-label-container {\n",
       "  text-align: center;\n",
       "}\n",
       "\n",
       "/* Estimator-specific */\n",
       "#sk-container-id-1 div.sk-estimator {\n",
       "  font-family: monospace;\n",
       "  border: 1px dotted var(--sklearn-color-border-box);\n",
       "  border-radius: 0.25em;\n",
       "  box-sizing: border-box;\n",
       "  margin-bottom: 0.5em;\n",
       "  /* unfitted */\n",
       "  background-color: var(--sklearn-color-unfitted-level-0);\n",
       "}\n",
       "\n",
       "#sk-container-id-1 div.sk-estimator.fitted {\n",
       "  /* fitted */\n",
       "  background-color: var(--sklearn-color-fitted-level-0);\n",
       "}\n",
       "\n",
       "/* on hover */\n",
       "#sk-container-id-1 div.sk-estimator:hover {\n",
       "  /* unfitted */\n",
       "  background-color: var(--sklearn-color-unfitted-level-2);\n",
       "}\n",
       "\n",
       "#sk-container-id-1 div.sk-estimator.fitted:hover {\n",
       "  /* fitted */\n",
       "  background-color: var(--sklearn-color-fitted-level-2);\n",
       "}\n",
       "\n",
       "/* Specification for estimator info (e.g. \"i\" and \"?\") */\n",
       "\n",
       "/* Common style for \"i\" and \"?\" */\n",
       "\n",
       ".sk-estimator-doc-link,\n",
       "a:link.sk-estimator-doc-link,\n",
       "a:visited.sk-estimator-doc-link {\n",
       "  float: right;\n",
       "  font-size: smaller;\n",
       "  line-height: 1em;\n",
       "  font-family: monospace;\n",
       "  background-color: var(--sklearn-color-background);\n",
       "  border-radius: 1em;\n",
       "  height: 1em;\n",
       "  width: 1em;\n",
       "  text-decoration: none !important;\n",
       "  margin-left: 0.5em;\n",
       "  text-align: center;\n",
       "  /* unfitted */\n",
       "  border: var(--sklearn-color-unfitted-level-1) 1pt solid;\n",
       "  color: var(--sklearn-color-unfitted-level-1);\n",
       "}\n",
       "\n",
       ".sk-estimator-doc-link.fitted,\n",
       "a:link.sk-estimator-doc-link.fitted,\n",
       "a:visited.sk-estimator-doc-link.fitted {\n",
       "  /* fitted */\n",
       "  border: var(--sklearn-color-fitted-level-1) 1pt solid;\n",
       "  color: var(--sklearn-color-fitted-level-1);\n",
       "}\n",
       "\n",
       "/* On hover */\n",
       "div.sk-estimator:hover .sk-estimator-doc-link:hover,\n",
       ".sk-estimator-doc-link:hover,\n",
       "div.sk-label-container:hover .sk-estimator-doc-link:hover,\n",
       ".sk-estimator-doc-link:hover {\n",
       "  /* unfitted */\n",
       "  background-color: var(--sklearn-color-unfitted-level-3);\n",
       "  color: var(--sklearn-color-background);\n",
       "  text-decoration: none;\n",
       "}\n",
       "\n",
       "div.sk-estimator.fitted:hover .sk-estimator-doc-link.fitted:hover,\n",
       ".sk-estimator-doc-link.fitted:hover,\n",
       "div.sk-label-container:hover .sk-estimator-doc-link.fitted:hover,\n",
       ".sk-estimator-doc-link.fitted:hover {\n",
       "  /* fitted */\n",
       "  background-color: var(--sklearn-color-fitted-level-3);\n",
       "  color: var(--sklearn-color-background);\n",
       "  text-decoration: none;\n",
       "}\n",
       "\n",
       "/* Span, style for the box shown on hovering the info icon */\n",
       ".sk-estimator-doc-link span {\n",
       "  display: none;\n",
       "  z-index: 9999;\n",
       "  position: relative;\n",
       "  font-weight: normal;\n",
       "  right: .2ex;\n",
       "  padding: .5ex;\n",
       "  margin: .5ex;\n",
       "  width: min-content;\n",
       "  min-width: 20ex;\n",
       "  max-width: 50ex;\n",
       "  color: var(--sklearn-color-text);\n",
       "  box-shadow: 2pt 2pt 4pt #999;\n",
       "  /* unfitted */\n",
       "  background: var(--sklearn-color-unfitted-level-0);\n",
       "  border: .5pt solid var(--sklearn-color-unfitted-level-3);\n",
       "}\n",
       "\n",
       ".sk-estimator-doc-link.fitted span {\n",
       "  /* fitted */\n",
       "  background: var(--sklearn-color-fitted-level-0);\n",
       "  border: var(--sklearn-color-fitted-level-3);\n",
       "}\n",
       "\n",
       ".sk-estimator-doc-link:hover span {\n",
       "  display: block;\n",
       "}\n",
       "\n",
       "/* \"?\"-specific style due to the `<a>` HTML tag */\n",
       "\n",
       "#sk-container-id-1 a.estimator_doc_link {\n",
       "  float: right;\n",
       "  font-size: 1rem;\n",
       "  line-height: 1em;\n",
       "  font-family: monospace;\n",
       "  background-color: var(--sklearn-color-background);\n",
       "  border-radius: 1rem;\n",
       "  height: 1rem;\n",
       "  width: 1rem;\n",
       "  text-decoration: none;\n",
       "  /* unfitted */\n",
       "  color: var(--sklearn-color-unfitted-level-1);\n",
       "  border: var(--sklearn-color-unfitted-level-1) 1pt solid;\n",
       "}\n",
       "\n",
       "#sk-container-id-1 a.estimator_doc_link.fitted {\n",
       "  /* fitted */\n",
       "  border: var(--sklearn-color-fitted-level-1) 1pt solid;\n",
       "  color: var(--sklearn-color-fitted-level-1);\n",
       "}\n",
       "\n",
       "/* On hover */\n",
       "#sk-container-id-1 a.estimator_doc_link:hover {\n",
       "  /* unfitted */\n",
       "  background-color: var(--sklearn-color-unfitted-level-3);\n",
       "  color: var(--sklearn-color-background);\n",
       "  text-decoration: none;\n",
       "}\n",
       "\n",
       "#sk-container-id-1 a.estimator_doc_link.fitted:hover {\n",
       "  /* fitted */\n",
       "  background-color: var(--sklearn-color-fitted-level-3);\n",
       "}\n",
       "</style><div id=\"sk-container-id-1\" class=\"sk-top-container\"><div class=\"sk-text-repr-fallback\"><pre>KMeans(n_clusters=5, random_state=42)</pre><b>In a Jupyter environment, please rerun this cell to show the HTML representation or trust the notebook. <br />On GitHub, the HTML representation is unable to render, please try loading this page with nbviewer.org.</b></div><div class=\"sk-container\" hidden><div class=\"sk-item\"><div class=\"sk-estimator fitted sk-toggleable\"><input class=\"sk-toggleable__control sk-hidden--visually\" id=\"sk-estimator-id-1\" type=\"checkbox\" checked><label for=\"sk-estimator-id-1\" class=\"sk-toggleable__label fitted sk-toggleable__label-arrow\"><div><div>KMeans</div></div><div><a class=\"sk-estimator-doc-link fitted\" rel=\"noreferrer\" target=\"_blank\" href=\"https://scikit-learn.org/1.6/modules/generated/sklearn.cluster.KMeans.html\">?<span>Documentation for KMeans</span></a><span class=\"sk-estimator-doc-link fitted\">i<span>Fitted</span></span></div></label><div class=\"sk-toggleable__content fitted\"><pre>KMeans(n_clusters=5, random_state=42)</pre></div> </div></div></div></div>"
      ],
      "text/plain": [
       "KMeans(n_clusters=5, random_state=42)"
      ]
     },
     "execution_count": 8,
     "metadata": {},
     "output_type": "execute_result"
    }
   ],
   "source": [
    "kmeans = KMeans(n_clusters= 5, init='k-means++',random_state= 42)\n",
    "kmeans.fit(X)"
   ]
  },
  {
   "cell_type": "markdown",
   "metadata": {
    "id": "oJKT3MQbbSLw"
   },
   "source": [
    "## Statistics from the initialization run with the lowest SSE are available as attributes of kmeans after calling .fit()"
   ]
  },
  {
   "cell_type": "code",
   "execution_count": 9,
   "metadata": {
    "colab": {
     "base_uri": "https://localhost:8080/"
    },
    "id": "mCfXLl8cbWsn",
    "outputId": "fac4779b-1143-4f40-b9ad-bba2eadb046d"
   },
   "outputs": [
    {
     "data": {
      "text/plain": [
       "3218151.3009848516"
      ]
     },
     "execution_count": 9,
     "metadata": {},
     "output_type": "execute_result"
    }
   ],
   "source": [
    "# The lowest SSE value\n",
    "kmeans.inertia_"
   ]
  },
  {
   "cell_type": "code",
   "execution_count": 10,
   "metadata": {
    "colab": {
     "base_uri": "https://localhost:8080/"
    },
    "id": "0rgCQSxMcD8G",
    "outputId": "45b441aa-c05a-4407-b6c4-44c707101d39"
   },
   "outputs": [
    {
     "data": {
      "text/plain": [
       "array([[671.96708738,   5.09223301],\n",
       "       [275.85811594,   4.99033816],\n",
       "       [882.22143519,   4.92592593],\n",
       "       [ 91.40374302,   4.81005587],\n",
       "       [469.47682292,   4.71875   ]])"
      ]
     },
     "execution_count": 10,
     "metadata": {},
     "output_type": "execute_result"
    }
   ],
   "source": [
    "# Final locations of the centroid\n",
    "kmeans.cluster_centers_"
   ]
  },
  {
   "cell_type": "code",
   "execution_count": 11,
   "metadata": {
    "colab": {
     "base_uri": "https://localhost:8080/"
    },
    "id": "iT1xH23ncOhO",
    "outputId": "9a71097f-4c39-4b59-9b0d-bffa12622aac"
   },
   "outputs": [
    {
     "data": {
      "text/plain": [
       "11"
      ]
     },
     "execution_count": 11,
     "metadata": {},
     "output_type": "execute_result"
    }
   ],
   "source": [
    "# The number of iterations required to converge\n",
    "kmeans.n_iter_"
   ]
  },
  {
   "cell_type": "code",
   "execution_count": 12,
   "metadata": {
    "colab": {
     "base_uri": "https://localhost:8080/"
    },
    "id": "K9SHgzrrccmW",
    "outputId": "ca263466-de9f-4171-96f4-9b0cc6a00e62"
   },
   "outputs": [
    {
     "data": {
      "text/plain": [
       "array([4, 1, 1, 1, 0, 0, 2, 2, 4, 3, 3, 1, 2, 4, 1, 4, 0, 0, 3, 2, 4, 3,\n",
       "       2, 3, 2, 2, 0, 0, 1, 2, 4, 0, 2, 2, 2, 1, 2, 0, 2, 0, 1, 4, 4, 2,\n",
       "       1, 0, 1, 2, 4, 3, 3, 3, 4, 3, 3, 2, 2, 4, 2, 3, 0, 0, 4, 4, 4, 4,\n",
       "       0, 3, 1, 1, 1, 4, 3, 2, 1, 3, 0, 3, 0, 0, 1, 3, 1, 3, 3, 1, 1, 4,\n",
       "       0, 0, 3, 3, 2, 4, 2, 4, 0, 4, 1, 4, 4, 1, 1, 2, 2, 1, 1, 1, 0, 1,\n",
       "       2, 1, 4, 0, 2, 4, 4, 2, 3, 2, 3, 2, 0, 1, 2, 3, 1, 4, 1, 0, 3, 3,\n",
       "       3, 1, 4, 0, 2, 2, 1, 4, 1, 1, 4, 3, 1, 2, 4, 4, 3, 1, 2, 3, 4, 3,\n",
       "       4, 3, 2, 2, 2, 1, 2, 4, 4, 0, 3, 3, 0, 1, 0, 4, 2, 2, 2, 1, 1, 4,\n",
       "       3, 3, 4, 4, 2, 1, 1, 3, 2, 2, 2, 2, 4, 4, 1, 0, 4, 4, 2, 2, 2, 0,\n",
       "       0, 3, 3, 0, 0, 3, 2, 3, 1, 0, 3, 3, 1, 0, 4, 0, 0, 3, 2, 3, 2, 4,\n",
       "       2, 3, 4, 3, 3, 0, 1, 0, 3, 1, 2, 4, 0, 0, 2, 1, 0, 2, 0, 4, 0, 0,\n",
       "       0, 3, 1, 2, 1, 0, 4, 4, 3, 1, 2, 2, 0, 4, 0, 0, 4, 3, 0, 0, 2, 3,\n",
       "       0, 0, 4, 3, 4, 1, 1, 0, 0, 0, 2, 1, 1, 0, 1, 1, 1, 3, 2, 1, 4, 3,\n",
       "       0, 1, 0, 4, 1, 4, 3, 4, 1, 2, 3, 0, 1, 1, 4, 2, 1, 3, 1, 3, 3, 0,\n",
       "       3, 3, 0, 1, 3, 1, 0, 1, 4, 3, 0, 1, 0, 2, 0, 1, 1, 1, 3, 1, 2, 4,\n",
       "       4, 0, 0, 3, 2, 3, 0, 0, 0, 0, 3, 1, 0, 4, 2, 1, 1, 1, 1, 4, 0, 0,\n",
       "       2, 2, 2, 3, 0, 1, 3, 0, 1, 3, 3, 3, 2, 3, 1, 4, 1, 2, 3, 4, 0, 2,\n",
       "       0, 2, 3, 4, 4, 2, 3, 3, 1, 3, 1, 2, 4, 0, 0, 1, 3, 1, 1, 0, 4, 3,\n",
       "       4, 2, 2, 2, 2, 1, 0, 3, 0, 0, 3, 2, 2, 1, 2, 3, 0, 4, 4, 2, 2, 2,\n",
       "       1, 2, 3, 2, 1, 3, 0, 1, 1, 1, 3, 3, 3, 4, 3, 0, 1, 2, 2, 1, 2, 2,\n",
       "       2, 0, 3, 0, 0, 0, 1, 2, 2, 1, 3, 1, 2, 0, 0, 4, 0, 1, 4, 2, 2, 2,\n",
       "       2, 4, 4, 0, 2, 3, 1, 3, 0, 1, 1, 3, 1, 2, 1, 0, 0, 2, 3, 2, 0, 2,\n",
       "       2, 1, 3, 1, 4, 3, 3, 4, 3, 3, 4, 3, 4, 4, 4, 2, 4, 4, 4, 2, 2, 2,\n",
       "       0, 3, 1, 3, 2, 0, 0, 1, 2, 1, 3, 4, 0, 4, 2, 3, 4, 4, 1, 2, 0, 0,\n",
       "       2, 0, 1, 0, 1, 1, 3, 0, 0, 1, 0, 2, 3, 1, 0, 1, 0, 3, 4, 0, 0, 2,\n",
       "       2, 0, 0, 3, 4, 3, 2, 1, 4, 1, 2, 2, 4, 2, 1, 4, 2, 1, 2, 3, 3, 2,\n",
       "       3, 2, 2, 3, 4, 1, 4, 3, 1, 1, 4, 2, 2, 0, 4, 2, 1, 0, 2, 1, 0, 2,\n",
       "       2, 0, 1, 1, 3, 0, 3, 2, 3, 3, 4, 0, 3, 4, 4, 1, 3, 2, 4, 3, 2, 2,\n",
       "       0, 4, 2, 2, 0, 4, 0, 0, 1, 4, 2, 0, 4, 0, 3, 4, 2, 1, 1, 2, 1, 1,\n",
       "       2, 0, 0, 2, 3, 0, 4, 2, 4, 0, 4, 4, 0, 0, 0, 4, 4, 0, 2, 0, 2, 2,\n",
       "       4, 0, 2, 0, 2, 0, 4, 1, 4, 2, 0, 4, 2, 0, 4, 0, 0, 1, 4, 4, 4, 4,\n",
       "       4, 1, 4, 3, 0, 2, 0, 1, 3, 1, 4, 1, 4, 1, 2, 4, 1, 2, 1, 3, 0, 0,\n",
       "       0, 1, 4, 1, 3, 2, 0, 1, 0, 1, 2, 3, 3, 4, 0, 0, 3, 1, 4, 1, 2, 3,\n",
       "       4, 0, 1, 0, 2, 1, 2, 4, 1, 4, 1, 0, 2, 2, 2, 2, 0, 1, 4, 3, 0, 4,\n",
       "       3, 3, 4, 0, 4, 0, 4, 0, 1, 3, 0, 4, 3, 4, 3, 4, 4, 0, 2, 1, 2, 4,\n",
       "       0, 0, 0, 4, 4, 3, 3, 1, 1, 4, 3, 0, 2, 2, 4, 0, 2, 4, 1, 2, 4, 4,\n",
       "       3, 3, 2, 0, 1, 1, 4, 0, 1, 2, 3, 1, 0, 1, 2, 0, 2, 3, 3, 1, 4, 0,\n",
       "       2, 0, 2, 0, 1, 1, 0, 1, 3, 4, 2, 3, 2, 2, 4, 3, 3, 0, 0, 2, 0, 3,\n",
       "       3, 0, 1, 1, 4, 3, 1, 4, 1, 3, 0, 2, 1, 0, 4, 4, 2, 0, 2, 3, 3, 2,\n",
       "       4, 1, 0, 2, 2, 1, 2, 3, 3, 0, 3, 1, 0, 1, 1, 1, 4, 4, 2, 0, 4, 2,\n",
       "       3, 1, 2, 4, 2, 4, 2, 4, 4, 4, 0, 4, 2, 1, 3, 4, 0, 2, 1, 0, 1, 0,\n",
       "       2, 1, 4, 2, 2, 4, 4, 1, 4, 2, 0, 1, 1, 1, 3, 3, 4, 3, 3, 4, 3, 3,\n",
       "       1, 1, 4, 3, 0, 2, 0, 4, 2, 0, 3, 4, 2, 1, 3, 0, 2, 3, 4, 1, 0, 1,\n",
       "       1, 2, 4, 0, 4, 1, 0, 3, 4, 1, 0, 2, 2, 4, 1, 4, 2, 1, 2, 1, 2, 2,\n",
       "       2, 1, 3, 4, 1, 3, 4, 4, 0, 0, 3, 2, 1, 4, 4, 2, 3, 4, 0, 1, 0, 2,\n",
       "       2, 3, 1, 1, 4, 1, 1, 2, 2, 3], dtype=int32)"
      ]
     },
     "execution_count": 12,
     "metadata": {},
     "output_type": "execute_result"
    }
   ],
   "source": [
    "#Finally, the cluster assignments are stored as a one-dimensional NumPy array in kmeans.labels_\n",
    "kmeans.labels_"
   ]
  },
  {
   "cell_type": "markdown",
   "metadata": {
    "id": "3pFnFDyJcz72"
   },
   "source": [
    "## Creating Output labels for Generating Graph"
   ]
  },
  {
   "cell_type": "code",
   "execution_count": 13,
   "metadata": {
    "id": "TSeyDA0KdDeE"
   },
   "outputs": [],
   "source": [
    "y_kmeans = kmeans.fit_predict(X)"
   ]
  },
  {
   "cell_type": "code",
   "execution_count": 14,
   "metadata": {
    "colab": {
     "base_uri": "https://localhost:8080/"
    },
    "id": "Li0xJWimW1Im",
    "outputId": "0179db0d-a197-48f3-a060-46d2b9aea3c9"
   },
   "outputs": [
    {
     "name": "stdout",
     "output_type": "stream",
     "text": [
      "[4 1 1 1 0 0 2 2 4 3 3 1 2 4 1 4 0 0 3 2 4 3 2 3 2 2 0 0 1 2 4 0 2 2 2 1 2\n",
      " 0 2 0 1 4 4 2 1 0 1 2 4 3 3 3 4 3 3 2 2 4 2 3 0 0 4 4 4 4 0 3 1 1 1 4 3 2\n",
      " 1 3 0 3 0 0 1 3 1 3 3 1 1 4 0 0 3 3 2 4 2 4 0 4 1 4 4 1 1 2 2 1 1 1 0 1 2\n",
      " 1 4 0 2 4 4 2 3 2 3 2 0 1 2 3 1 4 1 0 3 3 3 1 4 0 2 2 1 4 1 1 4 3 1 2 4 4\n",
      " 3 1 2 3 4 3 4 3 2 2 2 1 2 4 4 0 3 3 0 1 0 4 2 2 2 1 1 4 3 3 4 4 2 1 1 3 2\n",
      " 2 2 2 4 4 1 0 4 4 2 2 2 0 0 3 3 0 0 3 2 3 1 0 3 3 1 0 4 0 0 3 2 3 2 4 2 3\n",
      " 4 3 3 0 1 0 3 1 2 4 0 0 2 1 0 2 0 4 0 0 0 3 1 2 1 0 4 4 3 1 2 2 0 4 0 0 4\n",
      " 3 0 0 2 3 0 0 4 3 4 1 1 0 0 0 2 1 1 0 1 1 1 3 2 1 4 3 0 1 0 4 1 4 3 4 1 2\n",
      " 3 0 1 1 4 2 1 3 1 3 3 0 3 3 0 1 3 1 0 1 4 3 0 1 0 2 0 1 1 1 3 1 2 4 4 0 0\n",
      " 3 2 3 0 0 0 0 3 1 0 4 2 1 1 1 1 4 0 0 2 2 2 3 0 1 3 0 1 3 3 3 2 3 1 4 1 2\n",
      " 3 4 0 2 0 2 3 4 4 2 3 3 1 3 1 2 4 0 0 1 3 1 1 0 4 3 4 2 2 2 2 1 0 3 0 0 3\n",
      " 2 2 1 2 3 0 4 4 2 2 2 1 2 3 2 1 3 0 1 1 1 3 3 3 4 3 0 1 2 2 1 2 2 2 0 3 0\n",
      " 0 0 1 2 2 1 3 1 2 0 0 4 0 1 4 2 2 2 2 4 4 0 2 3 1 3 0 1 1 3 1 2 1 0 0 2 3\n",
      " 2 0 2 2 1 3 1 4 3 3 4 3 3 4 3 4 4 4 2 4 4 4 2 2 2 0 3 1 3 2 0 0 1 2 1 3 4\n",
      " 0 4 2 3 4 4 1 2 0 0 2 0 1 0 1 1 3 0 0 1 0 2 3 1 0 1 0 3 4 0 0 2 2 0 0 3 4\n",
      " 3 2 1 4 1 2 2 4 2 1 4 2 1 2 3 3 2 3 2 2 3 4 1 4 3 1 1 4 2 2 0 4 2 1 0 2 1\n",
      " 0 2 2 0 1 1 3 0 3 2 3 3 4 0 3 4 4 1 3 2 4 3 2 2 0 4 2 2 0 4 0 0 1 4 2 0 4\n",
      " 0 3 4 2 1 1 2 1 1 2 0 0 2 3 0 4 2 4 0 4 4 0 0 0 4 4 0 2 0 2 2 4 0 2 0 2 0\n",
      " 4 1 4 2 0 4 2 0 4 0 0 1 4 4 4 4 4 1 4 3 0 2 0 1 3 1 4 1 4 1 2 4 1 2 1 3 0\n",
      " 0 0 1 4 1 3 2 0 1 0 1 2 3 3 4 0 0 3 1 4 1 2 3 4 0 1 0 2 1 2 4 1 4 1 0 2 2\n",
      " 2 2 0 1 4 3 0 4 3 3 4 0 4 0 4 0 1 3 0 4 3 4 3 4 4 0 2 1 2 4 0 0 0 4 4 3 3\n",
      " 1 1 4 3 0 2 2 4 0 2 4 1 2 4 4 3 3 2 0 1 1 4 0 1 2 3 1 0 1 2 0 2 3 3 1 4 0\n",
      " 2 0 2 0 1 1 0 1 3 4 2 3 2 2 4 3 3 0 0 2 0 3 3 0 1 1 4 3 1 4 1 3 0 2 1 0 4\n",
      " 4 2 0 2 3 3 2 4 1 0 2 2 1 2 3 3 0 3 1 0 1 1 1 4 4 2 0 4 2 3 1 2 4 2 4 2 4\n",
      " 4 4 0 4 2 1 3 4 0 2 1 0 1 0 2 1 4 2 2 4 4 1 4 2 0 1 1 1 3 3 4 3 3 4 3 3 1\n",
      " 1 4 3 0 2 0 4 2 0 3 4 2 1 3 0 2 3 4 1 0 1 1 2 4 0 4 1 0 3 4 1 0 2 2 4 1 4\n",
      " 2 1 2 1 2 2 2 1 3 4 1 3 4 4 0 0 3 2 1 4 4 2 3 4 0 1 0 2 2 3 1 1 4 1 1 2 2\n",
      " 3]\n"
     ]
    }
   ],
   "source": [
    "print(y_kmeans)"
   ]
  },
  {
   "cell_type": "markdown",
   "metadata": {
    "id": "e7YrS1JAMFnm"
   },
   "source": [
    "## Visualising the clusters"
   ]
  },
  {
   "cell_type": "code",
   "execution_count": 15,
   "metadata": {
    "colab": {
     "base_uri": "https://localhost:8080/",
     "height": 304
    },
    "id": "u351E057XoBS",
    "outputId": "abfad2fb-19fe-441b-8c5b-f266da6a5419"
   },
   "outputs": [
    {
     "data": {
      "image/png": "[encoded data removed]",
      "text/plain": [
       "<Figure size 640x480 with 1 Axes>"
      ]
     },
     "metadata": {},
     "output_type": "display_data"
    }
   ],
   "source": [
    "plt.scatter(X[y_kmeans == 0,0],X[y_kmeans == 0,1],s=100, c = 'red', label =\"Cluster 1\")\n",
    "plt.scatter(X[y_kmeans == 1,0],X[y_kmeans == 1,1],s=100, c = 'blue', label =\"Cluster 2\")\n",
    "plt.scatter(X[y_kmeans == 2,0],X[y_kmeans == 2,1],s=100, c = 'lightgreen', label =\"Cluster 3\")\n",
    "plt.scatter(X[y_kmeans == 3,0],X[y_kmeans == 3,1],s=100, c = 'black', label =\"Cluster 4\")\n",
    "plt.scatter(X[y_kmeans == 4,0],X[y_kmeans == 4,1],s=100, c = 'magenta', label =\"Cluster 5\")\n",
    "plt.scatter(kmeans.cluster_centers_[:,0],kmeans.cluster_centers_[:,1],s = 300, c = 'Yellow',label = 'Centroids')\n",
    "plt.title(\"Clusters of Customers\",size = 25)\n",
    "plt.xlabel(\"Annual Income {k$}\")\n",
    "plt.ylabel(\"Spending Scores{1 to 100}\")\n",
    "plt.legend()\n",
    "plt.show()"
   ]
  },
  {
   "cell_type": "markdown",
   "metadata": {},
   "source": [
    "## Internal Evaluation of Cluster\n",
    "### DB Score (lower is better)"
   ]
  },
  {
   "cell_type": "code",
   "execution_count": 16,
   "metadata": {},
   "outputs": [
    {
     "data": {
      "text/plain": [
       "np.float64(0.49792824224709975)"
      ]
     },
     "execution_count": 16,
     "metadata": {},
     "output_type": "execute_result"
    }
   ],
   "source": [
    "from sklearn.metrics import davies_bouldin_score\n",
    "davies_bouldin_score(X,y_kmeans)"
   ]
  },
  {
   "cell_type": "markdown",
   "metadata": {},
   "source": [
    "## External Evaluation\n",
    "### Homogenity Score (higher is better)"
   ]
  },
  {
   "cell_type": "code",
   "execution_count": 17,
   "metadata": {},
   "outputs": [],
   "source": [
    "y_pred = kmeans.predict(X)"
   ]
  },
  {
   "cell_type": "code",
   "execution_count": 18,
   "metadata": {},
   "outputs": [
    {
     "data": {
      "text/plain": [
       "np.float64(1.0)"
      ]
     },
     "execution_count": 18,
     "metadata": {},
     "output_type": "execute_result"
    }
   ],
   "source": [
    "from sklearn.metrics.cluster import homogeneity_score\n",
    "homogeneity_score(y_kmeans,y_pred)"
   ]
  }
 ],
 "metadata": {
  "colab": {
   "name": "ML Lab 7_ k_means_clustering.ipynb",
   "provenance": []
  },
  "kernelspec": {
   "display_name": "Python 3 (ipykernel)",
   "language": "python",
   "name": "python3"
  },
  "language_info": {
   "codemirror_mode": {
    "name": "ipython",
    "version": 3
   },
   "file_extension": ".py",
   "mimetype": "text/x-python",
   "name": "python",
   "nbconvert_exporter": "python",
   "pygments_lexer": "ipython3",
   "version": "3.12.1"
  }
 },
 "nbformat": 4,
 "nbformat_minor": 4
}
