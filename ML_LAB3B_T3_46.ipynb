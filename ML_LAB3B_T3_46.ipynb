{
 "cells": [
  {
   "cell_type": "markdown",
   "metadata": {
    "id": "CazISR8X_HUG"
   },
   "source": [
    "# Multiple Linear Regression\n",
    "\n"
   ]
  },
  {
   "cell_type": "markdown",
   "metadata": {
    "id": "pOyqYHTk_Q57"
   },
   "source": [
    "## Importing the libraries"
   ]
  },
  {
   "cell_type": "code",
   "execution_count": 1,
   "metadata": {
    "id": "t1M5IQSJTR63"
   },
   "outputs": [],
   "source": [
    "import numpy as np\n",
    "import matplotlib.pyplot as plt\n",
    "import pandas as pd"
   ]
  },
  {
   "cell_type": "markdown",
   "metadata": {
    "id": "vgC61-ah_WIz"
   },
   "source": [
    "## Importing the dataset"
   ]
  },
  {
   "cell_type": "code",
   "execution_count": 17,
   "metadata": {
    "id": "ixltEfVuTkmF"
   },
   "outputs": [],
   "source": [
    "dataset = pd.read_csv(r\"C:\\Users\\Admin\\Downloads\\automobile_emissions.csv\")"
   ]
  },
  {
   "cell_type": "markdown",
   "metadata": {
    "id": "ikgTTnNZ_gJX"
   },
   "source": [
    "## EDA Steps"
   ]
  },
  {
   "cell_type": "code",
   "execution_count": 18,
   "metadata": {},
   "outputs": [
    {
     "data": {
      "text/html": [
       "<div>\n",
       "<style scoped>\n",
       "    .dataframe tbody tr th:only-of-type {\n",
       "        vertical-align: middle;\n",
       "    }\n",
       "\n",
       "    .dataframe tbody tr th {\n",
       "        vertical-align: top;\n",
       "    }\n",
       "\n",
       "    .dataframe thead th {\n",
       "        text-align: right;\n",
       "    }\n",
       "</style>\n",
       "<table border=\"1\" class=\"dataframe\">\n",
       "  <thead>\n",
       "    <tr style=\"text-align: right;\">\n",
       "      <th></th>\n",
       "      <th>Engine Size (L)</th>\n",
       "      <th>Horsepower</th>\n",
       "      <th>Fuel Type</th>\n",
       "      <th>CO2 Emissions (g/km)</th>\n",
       "    </tr>\n",
       "  </thead>\n",
       "  <tbody>\n",
       "    <tr>\n",
       "      <th>0</th>\n",
       "      <td>3.0</td>\n",
       "      <td>102</td>\n",
       "      <td>Electric</td>\n",
       "      <td>0</td>\n",
       "    </tr>\n",
       "    <tr>\n",
       "      <th>1</th>\n",
       "      <td>1.3</td>\n",
       "      <td>274</td>\n",
       "      <td>Diesel</td>\n",
       "      <td>214</td>\n",
       "    </tr>\n",
       "    <tr>\n",
       "      <th>2</th>\n",
       "      <td>2.0</td>\n",
       "      <td>284</td>\n",
       "      <td>Diesel</td>\n",
       "      <td>341</td>\n",
       "    </tr>\n",
       "    <tr>\n",
       "      <th>3</th>\n",
       "      <td>1.8</td>\n",
       "      <td>129</td>\n",
       "      <td>Electric</td>\n",
       "      <td>0</td>\n",
       "    </tr>\n",
       "    <tr>\n",
       "      <th>4</th>\n",
       "      <td>3.3</td>\n",
       "      <td>274</td>\n",
       "      <td>Diesel</td>\n",
       "      <td>543</td>\n",
       "    </tr>\n",
       "  </tbody>\n",
       "</table>\n",
       "</div>"
      ],
      "text/plain": [
       "   Engine Size (L)  Horsepower Fuel Type  CO2 Emissions (g/km)\n",
       "0              3.0         102  Electric                     0\n",
       "1              1.3         274    Diesel                   214\n",
       "2              2.0         284    Diesel                   341\n",
       "3              1.8         129  Electric                     0\n",
       "4              3.3         274    Diesel                   543"
      ]
     },
     "execution_count": 18,
     "metadata": {},
     "output_type": "execute_result"
    }
   ],
   "source": [
    "dataset.head()"
   ]
  },
  {
   "cell_type": "code",
   "execution_count": 19,
   "metadata": {},
   "outputs": [
    {
     "data": {
      "text/plain": [
       "Index(['Engine Size (L)', 'Horsepower', 'Fuel Type', 'CO2 Emissions (g/km)'], dtype='object')"
      ]
     },
     "execution_count": 19,
     "metadata": {},
     "output_type": "execute_result"
    }
   ],
   "source": [
    "dataset.columns"
   ]
  },
  {
   "cell_type": "code",
   "execution_count": 20,
   "metadata": {
    "colab": {
     "base_uri": "https://localhost:8080/"
    },
    "id": "4oZpPiB9_m6k",
    "outputId": "580bf1c3-55df-46ec-be59-62c75fe069f1"
   },
   "outputs": [
    {
     "name": "stdout",
     "output_type": "stream",
     "text": [
      "<class 'pandas.core.frame.DataFrame'>\n",
      "RangeIndex: 100 entries, 0 to 99\n",
      "Data columns (total 4 columns):\n",
      " #   Column                Non-Null Count  Dtype  \n",
      "---  ------                --------------  -----  \n",
      " 0   Engine Size (L)       100 non-null    float64\n",
      " 1   Horsepower            100 non-null    int64  \n",
      " 2   Fuel Type             100 non-null    object \n",
      " 3   CO2 Emissions (g/km)  100 non-null    int64  \n",
      "dtypes: float64(1), int64(2), object(1)\n",
      "memory usage: 3.3+ KB\n"
     ]
    }
   ],
   "source": [
    "dataset.info()"
   ]
  },
  {
   "cell_type": "code",
   "execution_count": 21,
   "metadata": {
    "colab": {
     "base_uri": "https://localhost:8080/",
     "height": 297
    },
    "id": "m58zGV_N_sWX",
    "outputId": "50475652-da06-49d8-c756-b638b05ab909"
   },
   "outputs": [
    {
     "data": {
      "text/html": [
       "<div>\n",
       "<style scoped>\n",
       "    .dataframe tbody tr th:only-of-type {\n",
       "        vertical-align: middle;\n",
       "    }\n",
       "\n",
       "    .dataframe tbody tr th {\n",
       "        vertical-align: top;\n",
       "    }\n",
       "\n",
       "    .dataframe thead th {\n",
       "        text-align: right;\n",
       "    }\n",
       "</style>\n",
       "<table border=\"1\" class=\"dataframe\">\n",
       "  <thead>\n",
       "    <tr style=\"text-align: right;\">\n",
       "      <th></th>\n",
       "      <th>Engine Size (L)</th>\n",
       "      <th>Horsepower</th>\n",
       "      <th>CO2 Emissions (g/km)</th>\n",
       "    </tr>\n",
       "  </thead>\n",
       "  <tbody>\n",
       "    <tr>\n",
       "      <th>count</th>\n",
       "      <td>100.000000</td>\n",
       "      <td>100.000000</td>\n",
       "      <td>100.000000</td>\n",
       "    </tr>\n",
       "    <tr>\n",
       "      <th>mean</th>\n",
       "      <td>2.544000</td>\n",
       "      <td>234.590000</td>\n",
       "      <td>296.100000</td>\n",
       "    </tr>\n",
       "    <tr>\n",
       "      <th>std</th>\n",
       "      <td>0.827595</td>\n",
       "      <td>75.717857</td>\n",
       "      <td>238.195171</td>\n",
       "    </tr>\n",
       "    <tr>\n",
       "      <th>min</th>\n",
       "      <td>1.200000</td>\n",
       "      <td>100.000000</td>\n",
       "      <td>0.000000</td>\n",
       "    </tr>\n",
       "    <tr>\n",
       "      <th>25%</th>\n",
       "      <td>1.800000</td>\n",
       "      <td>167.000000</td>\n",
       "      <td>0.000000</td>\n",
       "    </tr>\n",
       "    <tr>\n",
       "      <th>50%</th>\n",
       "      <td>2.550000</td>\n",
       "      <td>238.000000</td>\n",
       "      <td>290.000000</td>\n",
       "    </tr>\n",
       "    <tr>\n",
       "      <th>75%</th>\n",
       "      <td>3.200000</td>\n",
       "      <td>295.250000</td>\n",
       "      <td>414.500000</td>\n",
       "    </tr>\n",
       "    <tr>\n",
       "      <th>max</th>\n",
       "      <td>4.000000</td>\n",
       "      <td>350.000000</td>\n",
       "      <td>906.000000</td>\n",
       "    </tr>\n",
       "  </tbody>\n",
       "</table>\n",
       "</div>"
      ],
      "text/plain": [
       "       Engine Size (L)  Horsepower  CO2 Emissions (g/km)\n",
       "count       100.000000  100.000000            100.000000\n",
       "mean          2.544000  234.590000            296.100000\n",
       "std           0.827595   75.717857            238.195171\n",
       "min           1.200000  100.000000              0.000000\n",
       "25%           1.800000  167.000000              0.000000\n",
       "50%           2.550000  238.000000            290.000000\n",
       "75%           3.200000  295.250000            414.500000\n",
       "max           4.000000  350.000000            906.000000"
      ]
     },
     "execution_count": 21,
     "metadata": {},
     "output_type": "execute_result"
    }
   ],
   "source": [
    "dataset.describe()"
   ]
  },
  {
   "cell_type": "markdown",
   "metadata": {},
   "source": [
    "## Preprocessing Steps"
   ]
  },
  {
   "cell_type": "markdown",
   "metadata": {
    "id": "rY2__D-L_0LI"
   },
   "source": [
    "### 1. Preparing Data as input and output"
   ]
  },
  {
   "cell_type": "code",
   "execution_count": 22,
   "metadata": {
    "id": "26paaK_r_fRY"
   },
   "outputs": [],
   "source": [
    "X = dataset.iloc[:,:-1].values\n",
    "y = dataset.iloc[:,-1].values"
   ]
  },
  {
   "cell_type": "code",
   "execution_count": 23,
   "metadata": {
    "colab": {
     "base_uri": "https://localhost:8080/"
    },
    "id": "iYwf9049Xuif",
    "outputId": "edff91c5-e477-4ed7-d5a7-e8312ef6a226"
   },
   "outputs": [
    {
     "name": "stdout",
     "output_type": "stream",
     "text": [
      "[[3.0 102 'Electric']\n",
      " [1.3 274 'Diesel']\n",
      " [2.0 284 'Diesel']\n",
      " [1.8 129 'Electric']\n",
      " [3.3 274 'Diesel']\n",
      " [3.1 326 'Petrol']\n",
      " [3.7 237 'Petrol']\n",
      " [1.4 292 'Petrol']\n",
      " [2.4 168 'Petrol']\n",
      " [1.3 296 'Diesel']\n",
      " [1.8 264 'Petrol']\n",
      " [2.6 187 'Electric']\n",
      " [1.3 128 'Electric']\n",
      " [1.8 175 'Petrol']\n",
      " [3.0 211 'Electric']\n",
      " [2.7 140 'Petrol']\n",
      " [1.8 216 'Petrol']\n",
      " [2.8 100 'Petrol']\n",
      " [3.5 344 'Electric']\n",
      " [1.2 284 'Electric']\n",
      " [3.5 324 'Petrol']\n",
      " [3.2 284 'Petrol']\n",
      " [2.2 167 'Petrol']\n",
      " [1.6 348 'Petrol']\n",
      " [3.9 228 'Diesel']\n",
      " [2.1 295 'Petrol']\n",
      " [1.5 145 'Electric']\n",
      " [1.5 229 'Petrol']\n",
      " [3.6 333 'Diesel']\n",
      " [2.9 127 'Electric']\n",
      " [3.5 322 'Diesel']\n",
      " [3.2 260 'Petrol']\n",
      " [2.7 176 'Electric']\n",
      " [3.9 315 'Petrol']\n",
      " [2.3 263 'Electric']\n",
      " [2.7 229 'Electric']\n",
      " [3.5 255 'Electric']\n",
      " [2.9 150 'Diesel']\n",
      " [3.6 139 'Petrol']\n",
      " [2.8 195 'Diesel']\n",
      " [3.2 295 'Diesel']\n",
      " [1.3 141 'Petrol']\n",
      " [1.8 238 'Petrol']\n",
      " [2.0 344 'Petrol']\n",
      " [1.4 299 'Electric']\n",
      " [1.9 336 'Diesel']\n",
      " [1.5 235 'Diesel']\n",
      " [2.0 335 'Diesel']\n",
      " [3.0 100 'Diesel']\n",
      " [2.2 253 'Diesel']\n",
      " [2.2 182 'Electric']\n",
      " [1.8 225 'Petrol']\n",
      " [1.9 104 'Electric']\n",
      " [3.8 128 'Electric']\n",
      " [3.0 337 'Electric']\n",
      " [2.9 192 'Petrol']\n",
      " [1.7 324 'Petrol']\n",
      " [3.2 312 'Diesel']\n",
      " [1.7 306 'Electric']\n",
      " [2.3 178 'Diesel']\n",
      " [4.0 161 'Petrol']\n",
      " [3.0 114 'Petrol']\n",
      " [2.8 161 'Petrol']\n",
      " [3.1 324 'Petrol']\n",
      " [3.6 245 'Electric']\n",
      " [3.4 342 'Diesel']\n",
      " [1.8 120 'Petrol']\n",
      " [1.3 121 'Diesel']\n",
      " [2.1 287 'Petrol']\n",
      " [1.9 224 'Diesel']\n",
      " [1.8 308 'Diesel']\n",
      " [3.8 117 'Petrol']\n",
      " [3.7 350 'Petrol']\n",
      " [2.1 294 'Diesel']\n",
      " [3.0 236 'Electric']\n",
      " [2.3 296 'Petrol']\n",
      " [3.8 132 'Petrol']\n",
      " [2.5 132 'Electric']\n",
      " [1.9 268 'Electric']\n",
      " [1.9 221 'Petrol']\n",
      " [2.8 342 'Petrol']\n",
      " [1.9 240 'Petrol']\n",
      " [2.8 142 'Petrol']\n",
      " [3.7 167 'Diesel']\n",
      " [2.3 235 'Diesel']\n",
      " [1.8 323 'Diesel']\n",
      " [4.0 255 'Petrol']\n",
      " [2.6 208 'Diesel']\n",
      " [1.5 346 'Petrol']\n",
      " [1.3 154 'Petrol']\n",
      " [1.5 337 'Diesel']\n",
      " [3.0 238 'Petrol']\n",
      " [3.4 293 'Diesel']\n",
      " [2.4 286 'Diesel']\n",
      " [1.4 276 'Diesel']\n",
      " [2.3 151 'Diesel']\n",
      " [4.0 282 'Diesel']\n",
      " [2.7 179 'Electric']\n",
      " [3.9 202 'Electric']\n",
      " [3.6 271 'Electric']]\n"
     ]
    }
   ],
   "source": [
    "print(X)"
   ]
  },
  {
   "cell_type": "markdown",
   "metadata": {
    "id": "VadrvE7s_lS9"
   },
   "source": [
    "### 2. Encoding categorical data"
   ]
  },
  {
   "cell_type": "code",
   "execution_count": 24,
   "metadata": {},
   "outputs": [
    {
     "data": {
      "text/plain": [
       "Fuel Type\n",
       "Petrol      42\n",
       "Diesel      32\n",
       "Electric    26\n",
       "Name: count, dtype: int64"
      ]
     },
     "execution_count": 24,
     "metadata": {},
     "output_type": "execute_result"
    }
   ],
   "source": [
    "dataset['Fuel Type'].value_counts()"
   ]
  },
  {
   "cell_type": "code",
   "execution_count": 25,
   "metadata": {
    "id": "ZpcdzvQbV0HR"
   },
   "outputs": [],
   "source": [
    "from sklearn.compose import ColumnTransformer\n",
    "from sklearn.preprocessing import OneHotEncoder\n",
    "ct = ColumnTransformer(transformers=[('encoder', OneHotEncoder(), [2])], remainder='passthrough')\n",
    "X = np.array(ct.fit_transform(X))\n"
   ]
  },
  {
   "cell_type": "code",
   "execution_count": 26,
   "metadata": {
    "colab": {
     "base_uri": "https://localhost:8080/"
    },
    "id": "adPjJJWSX373",
    "outputId": "5f56e5a1-04ab-4854-d07d-7eda85a7964c"
   },
   "outputs": [
    {
     "name": "stdout",
     "output_type": "stream",
     "text": [
      "[[0.0 1.0 0.0 3.0 102]\n",
      " [1.0 0.0 0.0 1.3 274]\n",
      " [1.0 0.0 0.0 2.0 284]\n",
      " [0.0 1.0 0.0 1.8 129]\n",
      " [1.0 0.0 0.0 3.3 274]\n",
      " [0.0 0.0 1.0 3.1 326]\n",
      " [0.0 0.0 1.0 3.7 237]\n",
      " [0.0 0.0 1.0 1.4 292]\n",
      " [0.0 0.0 1.0 2.4 168]\n",
      " [1.0 0.0 0.0 1.3 296]\n",
      " [0.0 0.0 1.0 1.8 264]\n",
      " [0.0 1.0 0.0 2.6 187]\n",
      " [0.0 1.0 0.0 1.3 128]\n",
      " [0.0 0.0 1.0 1.8 175]\n",
      " [0.0 1.0 0.0 3.0 211]\n",
      " [0.0 0.0 1.0 2.7 140]\n",
      " [0.0 0.0 1.0 1.8 216]\n",
      " [0.0 0.0 1.0 2.8 100]\n",
      " [0.0 1.0 0.0 3.5 344]\n",
      " [0.0 1.0 0.0 1.2 284]\n",
      " [0.0 0.0 1.0 3.5 324]\n",
      " [0.0 0.0 1.0 3.2 284]\n",
      " [0.0 0.0 1.0 2.2 167]\n",
      " [0.0 0.0 1.0 1.6 348]\n",
      " [1.0 0.0 0.0 3.9 228]\n",
      " [0.0 0.0 1.0 2.1 295]\n",
      " [0.0 1.0 0.0 1.5 145]\n",
      " [0.0 0.0 1.0 1.5 229]\n",
      " [1.0 0.0 0.0 3.6 333]\n",
      " [0.0 1.0 0.0 2.9 127]\n",
      " [1.0 0.0 0.0 3.5 322]\n",
      " [0.0 0.0 1.0 3.2 260]\n",
      " [0.0 1.0 0.0 2.7 176]\n",
      " [0.0 0.0 1.0 3.9 315]\n",
      " [0.0 1.0 0.0 2.3 263]\n",
      " [0.0 1.0 0.0 2.7 229]\n",
      " [0.0 1.0 0.0 3.5 255]\n",
      " [1.0 0.0 0.0 2.9 150]\n",
      " [0.0 0.0 1.0 3.6 139]\n",
      " [1.0 0.0 0.0 2.8 195]\n",
      " [1.0 0.0 0.0 3.2 295]\n",
      " [0.0 0.0 1.0 1.3 141]\n",
      " [0.0 0.0 1.0 1.8 238]\n",
      " [0.0 0.0 1.0 2.0 344]\n",
      " [0.0 1.0 0.0 1.4 299]\n",
      " [1.0 0.0 0.0 1.9 336]\n",
      " [1.0 0.0 0.0 1.5 235]\n",
      " [1.0 0.0 0.0 2.0 335]\n",
      " [1.0 0.0 0.0 3.0 100]\n",
      " [1.0 0.0 0.0 2.2 253]\n",
      " [0.0 1.0 0.0 2.2 182]\n",
      " [0.0 0.0 1.0 1.8 225]\n",
      " [0.0 1.0 0.0 1.9 104]\n",
      " [0.0 1.0 0.0 3.8 128]\n",
      " [0.0 1.0 0.0 3.0 337]\n",
      " [0.0 0.0 1.0 2.9 192]\n",
      " [0.0 0.0 1.0 1.7 324]\n",
      " [1.0 0.0 0.0 3.2 312]\n",
      " [0.0 1.0 0.0 1.7 306]\n",
      " [1.0 0.0 0.0 2.3 178]\n",
      " [0.0 0.0 1.0 4.0 161]\n",
      " [0.0 0.0 1.0 3.0 114]\n",
      " [0.0 0.0 1.0 2.8 161]\n",
      " [0.0 0.0 1.0 3.1 324]\n",
      " [0.0 1.0 0.0 3.6 245]\n",
      " [1.0 0.0 0.0 3.4 342]\n",
      " [0.0 0.0 1.0 1.8 120]\n",
      " [1.0 0.0 0.0 1.3 121]\n",
      " [0.0 0.0 1.0 2.1 287]\n",
      " [1.0 0.0 0.0 1.9 224]\n",
      " [1.0 0.0 0.0 1.8 308]\n",
      " [0.0 0.0 1.0 3.8 117]\n",
      " [0.0 0.0 1.0 3.7 350]\n",
      " [1.0 0.0 0.0 2.1 294]\n",
      " [0.0 1.0 0.0 3.0 236]\n",
      " [0.0 0.0 1.0 2.3 296]\n",
      " [0.0 0.0 1.0 3.8 132]\n",
      " [0.0 1.0 0.0 2.5 132]\n",
      " [0.0 1.0 0.0 1.9 268]\n",
      " [0.0 0.0 1.0 1.9 221]\n",
      " [0.0 0.0 1.0 2.8 342]\n",
      " [0.0 0.0 1.0 1.9 240]\n",
      " [0.0 0.0 1.0 2.8 142]\n",
      " [1.0 0.0 0.0 3.7 167]\n",
      " [1.0 0.0 0.0 2.3 235]\n",
      " [1.0 0.0 0.0 1.8 323]\n",
      " [0.0 0.0 1.0 4.0 255]\n",
      " [1.0 0.0 0.0 2.6 208]\n",
      " [0.0 0.0 1.0 1.5 346]\n",
      " [0.0 0.0 1.0 1.3 154]\n",
      " [1.0 0.0 0.0 1.5 337]\n",
      " [0.0 0.0 1.0 3.0 238]\n",
      " [1.0 0.0 0.0 3.4 293]\n",
      " [1.0 0.0 0.0 2.4 286]\n",
      " [1.0 0.0 0.0 1.4 276]\n",
      " [1.0 0.0 0.0 2.3 151]\n",
      " [1.0 0.0 0.0 4.0 282]\n",
      " [0.0 1.0 0.0 2.7 179]\n",
      " [0.0 1.0 0.0 3.9 202]\n",
      " [0.0 1.0 0.0 3.6 271]]\n"
     ]
    }
   ],
   "source": [
    "print(X)"
   ]
  },
  {
   "cell_type": "markdown",
   "metadata": {
    "id": "WemVnqgeA70k"
   },
   "source": [
    "### 3. Splitting the dataset into the Training set and Test set"
   ]
  },
  {
   "cell_type": "code",
   "execution_count": 27,
   "metadata": {
    "id": "dOCQOgtrY2Ps"
   },
   "outputs": [],
   "source": [
    "from sklearn.model_selection import train_test_split\n",
    "X_train, X_test, y_train, y_test = train_test_split(X,y,test_size = 0.2 ,\n",
    "                                                    random_state = 0)"
   ]
  },
  {
   "cell_type": "code",
   "execution_count": 28,
   "metadata": {},
   "outputs": [
    {
     "data": {
      "text/plain": [
       "(80, 5)"
      ]
     },
     "execution_count": 28,
     "metadata": {},
     "output_type": "execute_result"
    }
   ],
   "source": [
    "X_train.shape"
   ]
  },
  {
   "cell_type": "markdown",
   "metadata": {
    "id": "k-McZVsQBINc"
   },
   "source": [
    "## Training the Multiple Linear Regression model on the Training set"
   ]
  },
  {
   "cell_type": "code",
   "execution_count": 29,
   "metadata": {
    "colab": {
     "base_uri": "https://localhost:8080/"
    },
    "id": "fdsnRkbzbz8P",
    "outputId": "ba83ba2d-e603-4059-eca7-b2ea99e8241f"
   },
   "outputs": [
    {
     "data": {
      "text/html": [
       "<style>#sk-container-id-1 {\n",
       "  /* Definition of color scheme common for light and dark mode */\n",
       "  --sklearn-color-text: #000;\n",
       "  --sklearn-color-text-muted: #666;\n",
       "  --sklearn-color-line: gray;\n",
       "  /* Definition of color scheme for unfitted estimators */\n",
       "  --sklearn-color-unfitted-level-0: #fff5e6;\n",
       "  --sklearn-color-unfitted-level-1: #f6e4d2;\n",
       "  --sklearn-color-unfitted-level-2: #ffe0b3;\n",
       "  --sklearn-color-unfitted-level-3: chocolate;\n",
       "  /* Definition of color scheme for fitted estimators */\n",
       "  --sklearn-color-fitted-level-0: #f0f8ff;\n",
       "  --sklearn-color-fitted-level-1: #d4ebff;\n",
       "  --sklearn-color-fitted-level-2: #b3dbfd;\n",
       "  --sklearn-color-fitted-level-3: cornflowerblue;\n",
       "\n",
       "  /* Specific color for light theme */\n",
       "  --sklearn-color-text-on-default-background: var(--sg-text-color, var(--theme-code-foreground, var(--jp-content-font-color1, black)));\n",
       "  --sklearn-color-background: var(--sg-background-color, var(--theme-background, var(--jp-layout-color0, white)));\n",
       "  --sklearn-color-border-box: var(--sg-text-color, var(--theme-code-foreground, var(--jp-content-font-color1, black)));\n",
       "  --sklearn-color-icon: #696969;\n",
       "\n",
       "  @media (prefers-color-scheme: dark) {\n",
       "    /* Redefinition of color scheme for dark theme */\n",
       "    --sklearn-color-text-on-default-background: var(--sg-text-color, var(--theme-code-foreground, var(--jp-content-font-color1, white)));\n",
       "    --sklearn-color-background: var(--sg-background-color, var(--theme-background, var(--jp-layout-color0, #111)));\n",
       "    --sklearn-color-border-box: var(--sg-text-color, var(--theme-code-foreground, var(--jp-content-font-color1, white)));\n",
       "    --sklearn-color-icon: #878787;\n",
       "  }\n",
       "}\n",
       "\n",
       "#sk-container-id-1 {\n",
       "  color: var(--sklearn-color-text);\n",
       "}\n",
       "\n",
       "#sk-container-id-1 pre {\n",
       "  padding: 0;\n",
       "}\n",
       "\n",
       "#sk-container-id-1 input.sk-hidden--visually {\n",
       "  border: 0;\n",
       "  clip: rect(1px 1px 1px 1px);\n",
       "  clip: rect(1px, 1px, 1px, 1px);\n",
       "  height: 1px;\n",
       "  margin: -1px;\n",
       "  overflow: hidden;\n",
       "  padding: 0;\n",
       "  position: absolute;\n",
       "  width: 1px;\n",
       "}\n",
       "\n",
       "#sk-container-id-1 div.sk-dashed-wrapped {\n",
       "  border: 1px dashed var(--sklearn-color-line);\n",
       "  margin: 0 0.4em 0.5em 0.4em;\n",
       "  box-sizing: border-box;\n",
       "  padding-bottom: 0.4em;\n",
       "  background-color: var(--sklearn-color-background);\n",
       "}\n",
       "\n",
       "#sk-container-id-1 div.sk-container {\n",
       "  /* jupyter's `normalize.less` sets `[hidden] { display: none; }`\n",
       "     but bootstrap.min.css set `[hidden] { display: none !important; }`\n",
       "     so we also need the `!important` here to be able to override the\n",
       "     default hidden behavior on the sphinx rendered scikit-learn.org.\n",
       "     See: https://github.com/scikit-learn/scikit-learn/issues/21755 */\n",
       "  display: inline-block !important;\n",
       "  position: relative;\n",
       "}\n",
       "\n",
       "#sk-container-id-1 div.sk-text-repr-fallback {\n",
       "  display: none;\n",
       "}\n",
       "\n",
       "div.sk-parallel-item,\n",
       "div.sk-serial,\n",
       "div.sk-item {\n",
       "  /* draw centered vertical line to link estimators */\n",
       "  background-image: linear-gradient(var(--sklearn-color-text-on-default-background), var(--sklearn-color-text-on-default-background));\n",
       "  background-size: 2px 100%;\n",
       "  background-repeat: no-repeat;\n",
       "  background-position: center center;\n",
       "}\n",
       "\n",
       "/* Parallel-specific style estimator block */\n",
       "\n",
       "#sk-container-id-1 div.sk-parallel-item::after {\n",
       "  content: \"\";\n",
       "  width: 100%;\n",
       "  border-bottom: 2px solid var(--sklearn-color-text-on-default-background);\n",
       "  flex-grow: 1;\n",
       "}\n",
       "\n",
       "#sk-container-id-1 div.sk-parallel {\n",
       "  display: flex;\n",
       "  align-items: stretch;\n",
       "  justify-content: center;\n",
       "  background-color: var(--sklearn-color-background);\n",
       "  position: relative;\n",
       "}\n",
       "\n",
       "#sk-container-id-1 div.sk-parallel-item {\n",
       "  display: flex;\n",
       "  flex-direction: column;\n",
       "}\n",
       "\n",
       "#sk-container-id-1 div.sk-parallel-item:first-child::after {\n",
       "  align-self: flex-end;\n",
       "  width: 50%;\n",
       "}\n",
       "\n",
       "#sk-container-id-1 div.sk-parallel-item:last-child::after {\n",
       "  align-self: flex-start;\n",
       "  width: 50%;\n",
       "}\n",
       "\n",
       "#sk-container-id-1 div.sk-parallel-item:only-child::after {\n",
       "  width: 0;\n",
       "}\n",
       "\n",
       "/* Serial-specific style estimator block */\n",
       "\n",
       "#sk-container-id-1 div.sk-serial {\n",
       "  display: flex;\n",
       "  flex-direction: column;\n",
       "  align-items: center;\n",
       "  background-color: var(--sklearn-color-background);\n",
       "  padding-right: 1em;\n",
       "  padding-left: 1em;\n",
       "}\n",
       "\n",
       "\n",
       "/* Toggleable style: style used for estimator/Pipeline/ColumnTransformer box that is\n",
       "clickable and can be expanded/collapsed.\n",
       "- Pipeline and ColumnTransformer use this feature and define the default style\n",
       "- Estimators will overwrite some part of the style using the `sk-estimator` class\n",
       "*/\n",
       "\n",
       "/* Pipeline and ColumnTransformer style (default) */\n",
       "\n",
       "#sk-container-id-1 div.sk-toggleable {\n",
       "  /* Default theme specific background. It is overwritten whether we have a\n",
       "  specific estimator or a Pipeline/ColumnTransformer */\n",
       "  background-color: var(--sklearn-color-background);\n",
       "}\n",
       "\n",
       "/* Toggleable label */\n",
       "#sk-container-id-1 label.sk-toggleable__label {\n",
       "  cursor: pointer;\n",
       "  display: flex;\n",
       "  width: 100%;\n",
       "  margin-bottom: 0;\n",
       "  padding: 0.5em;\n",
       "  box-sizing: border-box;\n",
       "  text-align: center;\n",
       "  align-items: start;\n",
       "  justify-content: space-between;\n",
       "  gap: 0.5em;\n",
       "}\n",
       "\n",
       "#sk-container-id-1 label.sk-toggleable__label .caption {\n",
       "  font-size: 0.6rem;\n",
       "  font-weight: lighter;\n",
       "  color: var(--sklearn-color-text-muted);\n",
       "}\n",
       "\n",
       "#sk-container-id-1 label.sk-toggleable__label-arrow:before {\n",
       "  /* Arrow on the left of the label */\n",
       "  content: \"▸\";\n",
       "  float: left;\n",
       "  margin-right: 0.25em;\n",
       "  color: var(--sklearn-color-icon);\n",
       "}\n",
       "\n",
       "#sk-container-id-1 label.sk-toggleable__label-arrow:hover:before {\n",
       "  color: var(--sklearn-color-text);\n",
       "}\n",
       "\n",
       "/* Toggleable content - dropdown */\n",
       "\n",
       "#sk-container-id-1 div.sk-toggleable__content {\n",
       "  max-height: 0;\n",
       "  max-width: 0;\n",
       "  overflow: hidden;\n",
       "  text-align: left;\n",
       "  /* unfitted */\n",
       "  background-color: var(--sklearn-color-unfitted-level-0);\n",
       "}\n",
       "\n",
       "#sk-container-id-1 div.sk-toggleable__content.fitted {\n",
       "  /* fitted */\n",
       "  background-color: var(--sklearn-color-fitted-level-0);\n",
       "}\n",
       "\n",
       "#sk-container-id-1 div.sk-toggleable__content pre {\n",
       "  margin: 0.2em;\n",
       "  border-radius: 0.25em;\n",
       "  color: var(--sklearn-color-text);\n",
       "  /* unfitted */\n",
       "  background-color: var(--sklearn-color-unfitted-level-0);\n",
       "}\n",
       "\n",
       "#sk-container-id-1 div.sk-toggleable__content.fitted pre {\n",
       "  /* unfitted */\n",
       "  background-color: var(--sklearn-color-fitted-level-0);\n",
       "}\n",
       "\n",
       "#sk-container-id-1 input.sk-toggleable__control:checked~div.sk-toggleable__content {\n",
       "  /* Expand drop-down */\n",
       "  max-height: 200px;\n",
       "  max-width: 100%;\n",
       "  overflow: auto;\n",
       "}\n",
       "\n",
       "#sk-container-id-1 input.sk-toggleable__control:checked~label.sk-toggleable__label-arrow:before {\n",
       "  content: \"▾\";\n",
       "}\n",
       "\n",
       "/* Pipeline/ColumnTransformer-specific style */\n",
       "\n",
       "#sk-container-id-1 div.sk-label input.sk-toggleable__control:checked~label.sk-toggleable__label {\n",
       "  color: var(--sklearn-color-text);\n",
       "  background-color: var(--sklearn-color-unfitted-level-2);\n",
       "}\n",
       "\n",
       "#sk-container-id-1 div.sk-label.fitted input.sk-toggleable__control:checked~label.sk-toggleable__label {\n",
       "  background-color: var(--sklearn-color-fitted-level-2);\n",
       "}\n",
       "\n",
       "/* Estimator-specific style */\n",
       "\n",
       "/* Colorize estimator box */\n",
       "#sk-container-id-1 div.sk-estimator input.sk-toggleable__control:checked~label.sk-toggleable__label {\n",
       "  /* unfitted */\n",
       "  background-color: var(--sklearn-color-unfitted-level-2);\n",
       "}\n",
       "\n",
       "#sk-container-id-1 div.sk-estimator.fitted input.sk-toggleable__control:checked~label.sk-toggleable__label {\n",
       "  /* fitted */\n",
       "  background-color: var(--sklearn-color-fitted-level-2);\n",
       "}\n",
       "\n",
       "#sk-container-id-1 div.sk-label label.sk-toggleable__label,\n",
       "#sk-container-id-1 div.sk-label label {\n",
       "  /* The background is the default theme color */\n",
       "  color: var(--sklearn-color-text-on-default-background);\n",
       "}\n",
       "\n",
       "/* On hover, darken the color of the background */\n",
       "#sk-container-id-1 div.sk-label:hover label.sk-toggleable__label {\n",
       "  color: var(--sklearn-color-text);\n",
       "  background-color: var(--sklearn-color-unfitted-level-2);\n",
       "}\n",
       "\n",
       "/* Label box, darken color on hover, fitted */\n",
       "#sk-container-id-1 div.sk-label.fitted:hover label.sk-toggleable__label.fitted {\n",
       "  color: var(--sklearn-color-text);\n",
       "  background-color: var(--sklearn-color-fitted-level-2);\n",
       "}\n",
       "\n",
       "/* Estimator label */\n",
       "\n",
       "#sk-container-id-1 div.sk-label label {\n",
       "  font-family: monospace;\n",
       "  font-weight: bold;\n",
       "  display: inline-block;\n",
       "  line-height: 1.2em;\n",
       "}\n",
       "\n",
       "#sk-container-id-1 div.sk-label-container {\n",
       "  text-align: center;\n",
       "}\n",
       "\n",
       "/* Estimator-specific */\n",
       "#sk-container-id-1 div.sk-estimator {\n",
       "  font-family: monospace;\n",
       "  border: 1px dotted var(--sklearn-color-border-box);\n",
       "  border-radius: 0.25em;\n",
       "  box-sizing: border-box;\n",
       "  margin-bottom: 0.5em;\n",
       "  /* unfitted */\n",
       "  background-color: var(--sklearn-color-unfitted-level-0);\n",
       "}\n",
       "\n",
       "#sk-container-id-1 div.sk-estimator.fitted {\n",
       "  /* fitted */\n",
       "  background-color: var(--sklearn-color-fitted-level-0);\n",
       "}\n",
       "\n",
       "/* on hover */\n",
       "#sk-container-id-1 div.sk-estimator:hover {\n",
       "  /* unfitted */\n",
       "  background-color: var(--sklearn-color-unfitted-level-2);\n",
       "}\n",
       "\n",
       "#sk-container-id-1 div.sk-estimator.fitted:hover {\n",
       "  /* fitted */\n",
       "  background-color: var(--sklearn-color-fitted-level-2);\n",
       "}\n",
       "\n",
       "/* Specification for estimator info (e.g. \"i\" and \"?\") */\n",
       "\n",
       "/* Common style for \"i\" and \"?\" */\n",
       "\n",
       ".sk-estimator-doc-link,\n",
       "a:link.sk-estimator-doc-link,\n",
       "a:visited.sk-estimator-doc-link {\n",
       "  float: right;\n",
       "  font-size: smaller;\n",
       "  line-height: 1em;\n",
       "  font-family: monospace;\n",
       "  background-color: var(--sklearn-color-background);\n",
       "  border-radius: 1em;\n",
       "  height: 1em;\n",
       "  width: 1em;\n",
       "  text-decoration: none !important;\n",
       "  margin-left: 0.5em;\n",
       "  text-align: center;\n",
       "  /* unfitted */\n",
       "  border: var(--sklearn-color-unfitted-level-1) 1pt solid;\n",
       "  color: var(--sklearn-color-unfitted-level-1);\n",
       "}\n",
       "\n",
       ".sk-estimator-doc-link.fitted,\n",
       "a:link.sk-estimator-doc-link.fitted,\n",
       "a:visited.sk-estimator-doc-link.fitted {\n",
       "  /* fitted */\n",
       "  border: var(--sklearn-color-fitted-level-1) 1pt solid;\n",
       "  color: var(--sklearn-color-fitted-level-1);\n",
       "}\n",
       "\n",
       "/* On hover */\n",
       "div.sk-estimator:hover .sk-estimator-doc-link:hover,\n",
       ".sk-estimator-doc-link:hover,\n",
       "div.sk-label-container:hover .sk-estimator-doc-link:hover,\n",
       ".sk-estimator-doc-link:hover {\n",
       "  /* unfitted */\n",
       "  background-color: var(--sklearn-color-unfitted-level-3);\n",
       "  color: var(--sklearn-color-background);\n",
       "  text-decoration: none;\n",
       "}\n",
       "\n",
       "div.sk-estimator.fitted:hover .sk-estimator-doc-link.fitted:hover,\n",
       ".sk-estimator-doc-link.fitted:hover,\n",
       "div.sk-label-container:hover .sk-estimator-doc-link.fitted:hover,\n",
       ".sk-estimator-doc-link.fitted:hover {\n",
       "  /* fitted */\n",
       "  background-color: var(--sklearn-color-fitted-level-3);\n",
       "  color: var(--sklearn-color-background);\n",
       "  text-decoration: none;\n",
       "}\n",
       "\n",
       "/* Span, style for the box shown on hovering the info icon */\n",
       ".sk-estimator-doc-link span {\n",
       "  display: none;\n",
       "  z-index: 9999;\n",
       "  position: relative;\n",
       "  font-weight: normal;\n",
       "  right: .2ex;\n",
       "  padding: .5ex;\n",
       "  margin: .5ex;\n",
       "  width: min-content;\n",
       "  min-width: 20ex;\n",
       "  max-width: 50ex;\n",
       "  color: var(--sklearn-color-text);\n",
       "  box-shadow: 2pt 2pt 4pt #999;\n",
       "  /* unfitted */\n",
       "  background: var(--sklearn-color-unfitted-level-0);\n",
       "  border: .5pt solid var(--sklearn-color-unfitted-level-3);\n",
       "}\n",
       "\n",
       ".sk-estimator-doc-link.fitted span {\n",
       "  /* fitted */\n",
       "  background: var(--sklearn-color-fitted-level-0);\n",
       "  border: var(--sklearn-color-fitted-level-3);\n",
       "}\n",
       "\n",
       ".sk-estimator-doc-link:hover span {\n",
       "  display: block;\n",
       "}\n",
       "\n",
       "/* \"?\"-specific style due to the `<a>` HTML tag */\n",
       "\n",
       "#sk-container-id-1 a.estimator_doc_link {\n",
       "  float: right;\n",
       "  font-size: 1rem;\n",
       "  line-height: 1em;\n",
       "  font-family: monospace;\n",
       "  background-color: var(--sklearn-color-background);\n",
       "  border-radius: 1rem;\n",
       "  height: 1rem;\n",
       "  width: 1rem;\n",
       "  text-decoration: none;\n",
       "  /* unfitted */\n",
       "  color: var(--sklearn-color-unfitted-level-1);\n",
       "  border: var(--sklearn-color-unfitted-level-1) 1pt solid;\n",
       "}\n",
       "\n",
       "#sk-container-id-1 a.estimator_doc_link.fitted {\n",
       "  /* fitted */\n",
       "  border: var(--sklearn-color-fitted-level-1) 1pt solid;\n",
       "  color: var(--sklearn-color-fitted-level-1);\n",
       "}\n",
       "\n",
       "/* On hover */\n",
       "#sk-container-id-1 a.estimator_doc_link:hover {\n",
       "  /* unfitted */\n",
       "  background-color: var(--sklearn-color-unfitted-level-3);\n",
       "  color: var(--sklearn-color-background);\n",
       "  text-decoration: none;\n",
       "}\n",
       "\n",
       "#sk-container-id-1 a.estimator_doc_link.fitted:hover {\n",
       "  /* fitted */\n",
       "  background-color: var(--sklearn-color-fitted-level-3);\n",
       "}\n",
       "</style><div id=\"sk-container-id-1\" class=\"sk-top-container\"><div class=\"sk-text-repr-fallback\"><pre>LinearRegression()</pre><b>In a Jupyter environment, please rerun this cell to show the HTML representation or trust the notebook. <br />On GitHub, the HTML representation is unable to render, please try loading this page with nbviewer.org.</b></div><div class=\"sk-container\" hidden><div class=\"sk-item\"><div class=\"sk-estimator fitted sk-toggleable\"><input class=\"sk-toggleable__control sk-hidden--visually\" id=\"sk-estimator-id-1\" type=\"checkbox\" checked><label for=\"sk-estimator-id-1\" class=\"sk-toggleable__label fitted sk-toggleable__label-arrow\"><div><div>LinearRegression</div></div><div><a class=\"sk-estimator-doc-link fitted\" rel=\"noreferrer\" target=\"_blank\" href=\"https://scikit-learn.org/1.6/modules/generated/sklearn.linear_model.LinearRegression.html\">?<span>Documentation for LinearRegression</span></a><span class=\"sk-estimator-doc-link fitted\">i<span>Fitted</span></span></div></label><div class=\"sk-toggleable__content fitted\"><pre>LinearRegression()</pre></div> </div></div></div></div>"
      ],
      "text/plain": [
       "LinearRegression()"
      ]
     },
     "execution_count": 29,
     "metadata": {},
     "output_type": "execute_result"
    }
   ],
   "source": [
    "from sklearn.linear_model import LinearRegression\n",
    "regressor = LinearRegression()\n",
    "regressor.fit(X_train,y_train)"
   ]
  },
  {
   "cell_type": "code",
   "execution_count": 30,
   "metadata": {},
   "outputs": [
    {
     "name": "stdout",
     "output_type": "stream",
     "text": [
      "Coefficient of our model [  91.14906599 -237.07050803  145.92144204  110.71387938    1.26180237]\n",
      "intercept  of our model -313.09430164575804\n"
     ]
    }
   ],
   "source": [
    "# check th attribute of our model\n",
    "print(\"Coefficient of our model\", regressor.coef_)\n",
    "print(\"intercept  of our model\", regressor.intercept_)"
   ]
  },
  {
   "cell_type": "code",
   "execution_count": 31,
   "metadata": {},
   "outputs": [
    {
     "name": "stdout",
     "output_type": "stream",
     "text": [
      "Training Accuracy of our model 0.8578769278374371\n",
      "Testing Accuracy of our model 0.8588591953057938\n"
     ]
    }
   ],
   "source": [
    "# score of our model \n",
    "print(\"Training Accuracy of our model\", regressor.score(X_train, y_train))\n",
    "print(\"Testing Accuracy of our model\", regressor.score(X_test, y_test))"
   ]
  },
  {
   "cell_type": "markdown",
   "metadata": {
    "id": "xNkXL1YQBiBT"
   },
   "source": [
    "## Predicting the Test set results"
   ]
  },
  {
   "cell_type": "code",
   "execution_count": 32,
   "metadata": {
    "id": "uEpgXb-RdDxE"
   },
   "outputs": [
    {
     "name": "stdout",
     "output_type": "stream",
     "text": [
      "[  0 714 341 390 477 412 272 370   0 208   0 598   0 220 286 676 257 534\n",
      " 860 282]\n",
      "[-201.13264672  597.44226268  357.83439667  396.16344595  460.96256498\n",
      "  404.64355316  304.66143556  381.52380832  207.20422771  223.22884504\n",
      "   32.05863553  524.19004914   -1.64540325  252.92753832  356.27286406\n",
      "  571.85370585  287.1186711   497.52983466  662.07901705  310.52324934]\n"
     ]
    }
   ],
   "source": [
    "y_pred = regressor.predict(X_test)\n",
    "print(y_test)\n",
    "print(y_pred)"
   ]
  },
  {
   "cell_type": "markdown",
   "metadata": {
    "id": "hwFDYVXCii1r"
   },
   "source": [
    "##Getting the final linear regression equation with the values of the coefficients"
   ]
  },
  {
   "cell_type": "markdown",
   "metadata": {
    "id": "EM524jreeuRe"
   },
   "source": [
    "## variance score: 1 means perfect prediction "
   ]
  },
  {
   "cell_type": "code",
   "execution_count": 36,
   "metadata": {
    "colab": {
     "base_uri": "https://localhost:8080/"
    },
    "id": "NgUp4jdce0t_",
    "outputId": "d772ab86-e75e-4eed-ca19-227ad15764ca"
   },
   "outputs": [
    {
     "name": "stdout",
     "output_type": "stream",
     "text": [
      "Variance score: 0.8588591953057938\n"
     ]
    }
   ],
   "source": [
    "print('Variance score: {}'.format(regressor.score(X_test, y_test))) "
   ]
  },
  {
   "cell_type": "markdown",
   "metadata": {
    "id": "72vgyhqDjX-a"
   },
   "source": [
    "In above example, we determine accuracy score using Explained Variance Score.\n",
    "\n",
    "We define:\n",
    "**explained_variance_score = 1 – Var{y – y’}/Var{y}**\n",
    "\n",
    "where  \n",
    "* y’ is the estimated target output,\n",
    "* y the corresponding (correct) target output\n",
    "* Var is Variance, the square of the standard deviation.\n",
    "\n",
    "***The best possible score is 1.0, lower values are worse.**"
   ]
  },
  {
   "cell_type": "markdown",
   "metadata": {
    "id": "ceCtQvX8fQpx"
   },
   "source": [
    "# plot for residual error \n",
    "  \n",
    "## setting plot style "
   ]
  },
  {
   "cell_type": "code",
   "execution_count": 37,
   "metadata": {
    "id": "BrqnUMq-fSlR"
   },
   "outputs": [],
   "source": [
    "plt.style.use('fivethirtyeight') "
   ]
  },
  {
   "cell_type": "markdown",
   "metadata": {
    "id": "Xh8lYIWufWZB"
   },
   "source": [
    "## plotting residual errors in training data"
   ]
  },
  {
   "cell_type": "code",
   "execution_count": 38,
   "metadata": {
    "colab": {
     "base_uri": "https://localhost:8080/",
     "height": 299
    },
    "id": "HYupyEnefdVT",
    "outputId": "ba9f3ae5-5b0a-4c0d-b407-d8c6661c7d7e"
   },
   "outputs": [
    {
     "data": {
      "text/plain": [
       "<matplotlib.collections.PathCollection at 0x187fcd17680>"
      ]
     },
     "execution_count": 38,
     "metadata": {},
     "output_type": "execute_result"
    },
    {
     "data": {
      "image/png": "[encoded data removed]",
      "text/plain": [
       "<Figure size 640x480 with 1 Axes>"
      ]
     },
     "metadata": {},
     "output_type": "display_data"
    }
   ],
   "source": [
    "plt.scatter(regressor.predict(X_train), \n",
    "            regressor.predict(X_train) - y_train,\n",
    "            color = \"green\", s = 10, label = 'Train data') "
   ]
  },
  {
   "cell_type": "markdown",
   "metadata": {
    "id": "ooz7n2uShIk0"
   },
   "source": [
    "## plotting residual errors in test data "
   ]
  },
  {
   "cell_type": "code",
   "execution_count": 39,
   "metadata": {
    "colab": {
     "base_uri": "https://localhost:8080/",
     "height": 299
    },
    "id": "lPiFEnuBhPHd",
    "outputId": "8fb16f7b-32f7-4977-8ba5-31ba2d0f98d2"
   },
   "outputs": [
    {
     "data": {
      "text/plain": [
       "<matplotlib.collections.PathCollection at 0x187fcda6f30>"
      ]
     },
     "execution_count": 39,
     "metadata": {},
     "output_type": "execute_result"
    },
    {
     "data": {
      "image/png": "[encoded data removed]",
      "text/plain": [
       "<Figure size 640x480 with 1 Axes>"
      ]
     },
     "metadata": {},
     "output_type": "display_data"
    }
   ],
   "source": [
    "plt.scatter(regressor.predict(X_test), \n",
    "            regressor.predict(X_test) - y_test,\n",
    "            color = \"blue\", s = 10, label = 'Test data') "
   ]
  },
  {
   "cell_type": "markdown",
   "metadata": {
    "id": "QrRtZTYGhbDb"
   },
   "source": [
    "## plotting line for zero residual error "
   ]
  },
  {
   "cell_type": "code",
   "execution_count": 40,
   "metadata": {
    "colab": {
     "base_uri": "https://localhost:8080/",
     "height": 299
    },
    "id": "n9Dng6cyhgDq",
    "outputId": "9370c24c-6bbc-4380-b8e1-55cd85fd68ba"
   },
   "outputs": [
    {
     "data": {
      "text/plain": [
       "<matplotlib.collections.LineCollection at 0x187fd1b4380>"
      ]
     },
     "execution_count": 40,
     "metadata": {},
     "output_type": "execute_result"
    },
    {
     "data": {
      "image/png": "[encoded data removed]",
      "text/plain": [
       "<Figure size 640x480 with 1 Axes>"
      ]
     },
     "metadata": {},
     "output_type": "display_data"
    }
   ],
   "source": [
    "plt.hlines(y = 0, xmin = 0, xmax = 18000, linewidth = 2) "
   ]
  },
  {
   "cell_type": "markdown",
   "metadata": {
    "id": "eJ-54LW-ho7D"
   },
   "source": [
    "## plotting legend "
   ]
  },
  {
   "cell_type": "code",
   "execution_count": 46,
   "metadata": {
    "colab": {
     "base_uri": "https://localhost:8080/",
     "height": 321
    },
    "id": "7SZEW7QVhpiV",
    "outputId": "63a9548c-176c-4f26-cf79-3bff0ad024a8"
   },
   "outputs": [
    {
     "name": "stderr",
     "output_type": "stream",
     "text": [
      "C:\\Users\\Admin\\AppData\\Local\\Temp\\ipykernel_12040\\3738487734.py:1: UserWarning: No artists with labels found to put in legend.  Note that artists whose label start with an underscore are ignored when legend() is called with no argument.\n",
      "  plt.legend(loc = 'upper right')\n"
     ]
    },
    {
     "data": {
      "text/plain": [
       "<matplotlib.legend.Legend at 0x187ff8959a0>"
      ]
     },
     "execution_count": 46,
     "metadata": {},
     "output_type": "execute_result"
    },
    {
     "data": {
      "image/png": "[encoded data removed]",
      "text/plain": [
       "<Figure size 640x480 with 1 Axes>"
      ]
     },
     "metadata": {},
     "output_type": "display_data"
    }
   ],
   "source": [
    "plt.legend(loc = 'upper right') "
   ]
  },
  {
   "cell_type": "markdown",
   "metadata": {
    "id": "Upk3PAuRhwUs"
   },
   "source": [
    "## plot title "
   ]
  },
  {
   "cell_type": "code",
   "execution_count": 42,
   "metadata": {
    "colab": {
     "base_uri": "https://localhost:8080/",
     "height": 320
    },
    "id": "kauaxXw0h0Cz",
    "outputId": "cccf214b-9bc6-4679-861e-bd084e6889b8"
   },
   "outputs": [
    {
     "data": {
      "text/plain": [
       "Text(0.5, 1.0, 'Residual errors')"
      ]
     },
     "execution_count": 42,
     "metadata": {},
     "output_type": "execute_result"
    },
    {
     "data": {
      "image/png": "[encoded data removed]",
      "text/plain": [
       "<Figure size 640x480 with 1 Axes>"
      ]
     },
     "metadata": {},
     "output_type": "display_data"
    }
   ],
   "source": [
    "plt.title(\"Residual errors\") "
   ]
  },
  {
   "cell_type": "markdown",
   "metadata": {
    "id": "jffJX6Feh8pC"
   },
   "source": [
    "## function to show plot "
   ]
  },
  {
   "cell_type": "code",
   "execution_count": 43,
   "metadata": {
    "colab": {
     "base_uri": "https://localhost:8080/",
     "height": 325
    },
    "id": "l2BL965dh9eK",
    "outputId": "f10defd8-9c7c-4471-ab11-1541144658da"
   },
   "outputs": [
    {
     "data": {
      "image/png": "[encoded data removed]",
      "text/plain": [
       "<Figure size 640x480 with 1 Axes>"
      ]
     },
     "metadata": {},
     "output_type": "display_data"
    }
   ],
   "source": [
    "plt.style.use('fivethirtyeight') \n",
    "plt.scatter(regressor.predict(X_train), regressor.predict(X_train) - y_train,color = \"green\", s = 10, label = 'Train data') \n",
    "plt.scatter(regressor.predict(X_test), regressor.predict(X_test) - y_test,color = \"blue\", s = 10, label = 'Test data') \n",
    "plt.hlines(y = 0, xmin = 0, xmax = 200000, linewidth = 2) \n",
    "plt.legend(loc = 'upper right') \n",
    "plt.title(\"Residual errors\") \n",
    "plt.xlabel(\"Profit\")\n",
    "plt.ylabel(\"Error\")\n",
    "plt.show() "
   ]
  },
  {
   "cell_type": "markdown",
   "metadata": {},
   "source": [
    "### EVALUATING A MODEL USING R2 METRIC"
   ]
  },
  {
   "cell_type": "markdown",
   "metadata": {
    "id": "l5AypdiJApHY"
   },
   "source": [
    "#### Find the R^2 "
   ]
  },
  {
   "cell_type": "code",
   "execution_count": 45,
   "metadata": {
    "colab": {
     "base_uri": "https://localhost:8080/"
    },
    "id": "uEsbK37kAukr",
    "outputId": "22ef7ec4-bc15-4df6-bb65-9d7b0941e16c"
   },
   "outputs": [
    {
     "name": "stdout",
     "output_type": "stream",
     "text": [
      "0.8588591953057938\n"
     ]
    }
   ],
   "source": [
    "from sklearn.metrics import r2_score\n",
    "print(r2_score(y_test,y_pred))"
   ]
  }
 ],
 "metadata": {
  "colab": {
   "name": "ML _Lab 3_Part B multiple_linear_regression.ipynb",
   "provenance": []
  },
  "kernelspec": {
   "display_name": "Python 3 (ipykernel)",
   "language": "python",
   "name": "python3"
  },
  "language_info": {
   "codemirror_mode": {
    "name": "ipython",
    "version": 3
   },
   "file_extension": ".py",
   "mimetype": "text/x-python",
   "name": "python",
   "nbconvert_exporter": "python",
   "pygments_lexer": "ipython3",
   "version": "3.12.1"
  }
 },
 "nbformat": 4,
 "nbformat_minor": 4
}
